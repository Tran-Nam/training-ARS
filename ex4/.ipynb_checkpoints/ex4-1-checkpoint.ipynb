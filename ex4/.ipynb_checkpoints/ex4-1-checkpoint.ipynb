{
 "cells": [
  {
   "cell_type": "code",
   "execution_count": 68,
   "metadata": {},
   "outputs": [
    {
     "name": "stdout",
     "output_type": "stream",
     "text": [
      "(5000, 400)\n",
      "(5000,)\n"
     ]
    }
   ],
   "source": [
    "import scipy.io\n",
    "import numpy as np\n",
    "import matplotlib.pyplot as plt\n",
    "\n",
    "datapath = 'ex4data1.mat'\n",
    "data = scipy.io.loadmat(datapath)\n",
    "X = data['X']\n",
    "y = data['y'].ravel()\n",
    "print(X.shape)\n",
    "print(y.shape)"
   ]
  },
  {
   "cell_type": "code",
   "execution_count": 69,
   "metadata": {},
   "outputs": [],
   "source": [
    "num_sample = 5000\n",
    "num_train = 4500\n",
    "num_class =10"
   ]
  },
  {
   "cell_type": "code",
   "execution_count": 70,
   "metadata": {},
   "outputs": [
    {
     "name": "stdout",
     "output_type": "stream",
     "text": [
      "(5000, 10)\n"
     ]
    }
   ],
   "source": [
    "y_target = np.zeros((num_sample, num_class))\n",
    "y_target[range(num_sample), y - 1] = 1\n",
    "print(y_target.shape)"
   ]
  },
  {
   "cell_type": "code",
   "execution_count": 71,
   "metadata": {},
   "outputs": [],
   "source": [
    "# index = np.where(y == 10)[0]\n",
    "# y[index] = 0"
   ]
  },
  {
   "cell_type": "code",
   "execution_count": 72,
   "metadata": {},
   "outputs": [
    {
     "data": {
      "image/png": "[encoded data removed]",
      "text/plain": [
       "<Figure size 720x720 with 20 Axes>"
      ]
     },
     "metadata": {},
     "output_type": "display_data"
    }
   ],
   "source": [
    "fig = plt.figure(figsize=(10, 10))\n",
    "for i in range(20):\n",
    "    plt.subplot(5, 5, i+1)\n",
    "    plt.xticks([])\n",
    "    plt.yticks([])\n",
    "#     plt.grid('off')\n",
    "    plt.imshow(X_train[i].reshape(20, 20).T, cmap=plt.cm.gray_r)\n",
    "    plt.xlabel(np.argmax(y_train[i]) + 1)"
   ]
  },
  {
   "cell_type": "code",
   "execution_count": 73,
   "metadata": {},
   "outputs": [
    {
     "name": "stdout",
     "output_type": "stream",
     "text": [
      "(4500, 400)\n",
      "(500, 400)\n"
     ]
    }
   ],
   "source": [
    "ids = np.random.permutation(range(X.shape[0]))\n",
    "num_train = 4500\n",
    "X_train = X[ids[:num_train]]\n",
    "y_train = y_target[ids[:num_train]]\n",
    "X_test = X[ids[num_train:]]\n",
    "y_test = y_target[ids[num_train:]]\n",
    "print(X_train.shape)\n",
    "print(X_test.shape)"
   ]
  },
  {
   "cell_type": "code",
   "execution_count": 74,
   "metadata": {},
   "outputs": [
    {
     "name": "stdout",
     "output_type": "stream",
     "text": [
      "(25, 401)\n",
      "(10, 26)\n"
     ]
    }
   ],
   "source": [
    "weightpath = 'ex4weights.mat'\n",
    "weights = scipy.io.loadmat(weightpath)\n",
    "# print(weights)\n",
    "theta1 = weights['Theta1']\n",
    "theta2 = weights['Theta2']\n",
    "print(theta1.shape)\n",
    "print(theta2.shape)"
   ]
  },
  {
   "cell_type": "code",
   "execution_count": 75,
   "metadata": {},
   "outputs": [],
   "source": [
    "def addones(x):\n",
    "    return np.concatenate((np.ones((x.shape[0], 1)), x), axis=1)"
   ]
  },
  {
   "cell_type": "code",
   "execution_count": 76,
   "metadata": {},
   "outputs": [],
   "source": [
    "# a = np.array([1,2,3])\n",
    "# a[y[0]]\n",
    "# b = np.array([2,3,1])\n",
    "# b[a[y[0]]]"
   ]
  },
  {
   "cell_type": "code",
   "execution_count": null,
   "metadata": {},
   "outputs": [],
   "source": []
  },
  {
   "cell_type": "code",
   "execution_count": 77,
   "metadata": {},
   "outputs": [],
   "source": [
    "# def h(theta, x):\n",
    "#     return 1 / (1+np.exp(-np.dot(x, theta)))\n",
    "def sigmoid(z):\n",
    "    return 1 / (1+np.exp(-z))\n",
    "\n",
    "def feedfw(theta1, theta2, x):\n",
    "    x = addones(x) #4500x401\n",
    "    z1 = np.dot(x, theta1.T) #4500x25\n",
    "#     print(z1.shape)\n",
    "    a1 = sigmoid(z1)\n",
    "    a1 = addones(a1) #4500x26\n",
    "    z2 = np.dot(a1, theta2.T) #4500x10\n",
    "#     print(z2.shape)\n",
    "    a2 = sigmoid(z2)\n",
    "#     print(a2.shape)\n",
    "    return a2\n",
    "\n",
    "def cost(y_pred, y_target):\n",
    "    return np.sum(-y_target*np.log(y_pred)-(1-y_target)*np.log(1-y_pred)) / num_train\n",
    "\n",
    "def cost_regu(y_pred, y_target, theta1, theta2):\n",
    "    return np.sum(-y_target*np.log(y_pred)-(1-y_target)*np.log(1-y_pred)) / num_train + \\\n",
    "            (np.sum(theta1**2)+np.sum(theta2**2)-np.sum(theta1[:,0]**2)-np.sum(theta2[:,0]**2)) / (2*num_train)"
   ]
  },
  {
   "cell_type": "code",
   "execution_count": null,
   "metadata": {},
   "outputs": [],
   "source": []
  },
  {
   "cell_type": "code",
   "execution_count": 78,
   "metadata": {
    "collapsed": true
   },
   "outputs": [],
   "source": [
    "lr = .1\n",
    "ite = 1000"
   ]
  },
  {
   "cell_type": "code",
   "execution_count": 81,
   "metadata": {},
   "outputs": [
    {
     "name": "stdout",
     "output_type": "stream",
     "text": [
      "(400, 25) (25, 10) (1, 25) (1, 10)\n",
      "Ite 0 Lost 19.402625522591176\n"
     ]
    },
    {
     "name": "stderr",
     "output_type": "stream",
     "text": [
      "/usr/lib/python3/dist-packages/ipykernel_launcher.py:4: RuntimeWarning: overflow encountered in exp\n",
      "  after removing the cwd from sys.path.\n",
      "/usr/lib/python3/dist-packages/ipykernel_launcher.py:19: RuntimeWarning: divide by zero encountered in log\n",
      "/usr/lib/python3/dist-packages/ipykernel_launcher.py:19: RuntimeWarning: invalid value encountered in multiply\n"
     ]
    },
    {
     "name": "stdout",
     "output_type": "stream",
     "text": [
      "Ite 100 Lost 345.3844245048032\n",
      "Ite 200 Lost 322.9547581710616\n",
      "Ite 300 Lost nan\n",
      "Ite 400 Lost 287.0027859857672\n",
      "Ite 500 Lost 323.86363766195126\n",
      "Ite 600 Lost 305.18495417028834\n",
      "Ite 700 Lost 282.7009983525136\n",
      "Ite 800 Lost 310.0432355397092\n",
      "Ite 900 Lost 335.71428975753514\n"
     ]
    }
   ],
   "source": [
    "num_feature = X_train.shape[1]\n",
    "num_hidden = 25\n",
    "w1 = np.random.rand(num_feature, num_hidden) / np.sqrt(num_feature) #400x25\n",
    "b1 = np.zeros((1, num_hidden)) #1x25\n",
    "w2 = np.random.rand(num_hidden, num_class) / np.sqrt(num_hidden) #25x10\n",
    "b2 = np.zeros((1, num_class)) #1x10\n",
    "print(w1.shape, w2.shape, b1.shape, b2.shape)   \n",
    "\n",
    "for it in range(ite):\n",
    "    #feed forward\n",
    "    z1 = np.dot(X_train, w1) + b1 #4500x25\n",
    "    a1 = sigmoid(z1)\n",
    "    z2 = np.dot(a1, w2) + b2 #4500x10\n",
    "    a2 = sigmoid(z2)\n",
    "    \n",
    "    #lost\n",
    "    lost = cost(a2, y_train)\n",
    "    if it%(ite/10) == 0:\n",
    "        print('Ite {0} Lost {1}'.format(it, lost))\n",
    "        \n",
    "    #backprop\n",
    "    dz2 = a2 - y_train #4500x10\n",
    "    dw2 = np.dot(a1.T, dz2) #25x10\n",
    "    db2 = np.sum(dz2, axis=0)\n",
    "    da1 = np.dot(dz2, w2.T) #4500x25\n",
    "    dz1 = da1 * (a1*(1-a1))\n",
    "    dw1 = np.dot(X_train.T, dz1) #400x25\n",
    "    db1 = np.sum(dz1, axis=0)\n",
    "    \n",
    "    #update\n",
    "    w1 -= lr*dw1\n",
    "    b1 -= lr*db1\n",
    "    w2 -= lr*dw2\n",
    "    b2 -= lr*db2"
   ]
  },
  {
   "cell_type": "code",
   "execution_count": 80,
   "metadata": {},
   "outputs": [
    {
     "ename": "ValueError",
     "evalue": "too many values to unpack (expected 5)",
     "output_type": "error",
     "traceback": [
      "\u001b[0;31m---------------------------------------------------------------------------\u001b[0m",
      "\u001b[0;31mValueError\u001b[0m                                Traceback (most recent call last)",
      "\u001b[0;32m<ipython-input-80-f34afc0a11fc>\u001b[0m in \u001b[0;36m<module>\u001b[0;34m()\u001b[0m\n\u001b[0;32m----> 1\u001b[0;31m \u001b[0mx\u001b[0m\u001b[0;34m,\u001b[0m \u001b[0mz1\u001b[0m\u001b[0;34m,\u001b[0m \u001b[0ma1\u001b[0m\u001b[0;34m,\u001b[0m \u001b[0mz2\u001b[0m\u001b[0;34m,\u001b[0m \u001b[0ma2\u001b[0m \u001b[0;34m=\u001b[0m \u001b[0mfeedfw\u001b[0m\u001b[0;34m(\u001b[0m\u001b[0mtheta1\u001b[0m\u001b[0;34m,\u001b[0m \u001b[0mtheta2\u001b[0m\u001b[0;34m,\u001b[0m \u001b[0mX\u001b[0m\u001b[0;34m)\u001b[0m\u001b[0;34m\u001b[0m\u001b[0m\n\u001b[0m\u001b[1;32m      2\u001b[0m \u001b[0mprint\u001b[0m\u001b[0;34m(\u001b[0m\u001b[0mcost_regu\u001b[0m\u001b[0;34m(\u001b[0m\u001b[0ma2\u001b[0m\u001b[0;34m,\u001b[0m \u001b[0my_target\u001b[0m\u001b[0;34m,\u001b[0m \u001b[0mtheta1\u001b[0m\u001b[0;34m,\u001b[0m \u001b[0mtheta2\u001b[0m\u001b[0;34m)\u001b[0m\u001b[0;34m)\u001b[0m\u001b[0;34m\u001b[0m\u001b[0m\n\u001b[1;32m      3\u001b[0m \u001b[0mprint\u001b[0m\u001b[0;34m(\u001b[0m\u001b[0ma2\u001b[0m\u001b[0;34m[\u001b[0m\u001b[0;36m0\u001b[0m\u001b[0;34m]\u001b[0m\u001b[0;34m)\u001b[0m\u001b[0;34m\u001b[0m\u001b[0m\n\u001b[1;32m      4\u001b[0m \u001b[0mprint\u001b[0m\u001b[0;34m(\u001b[0m\u001b[0my\u001b[0m\u001b[0;34m[\u001b[0m\u001b[0;36m0\u001b[0m\u001b[0;34m]\u001b[0m\u001b[0;34m)\u001b[0m\u001b[0;34m\u001b[0m\u001b[0m\n\u001b[1;32m      5\u001b[0m \u001b[0mprint\u001b[0m\u001b[0;34m(\u001b[0m\u001b[0my_target\u001b[0m\u001b[0;34m[\u001b[0m\u001b[0;36m0\u001b[0m\u001b[0;34m]\u001b[0m\u001b[0;34m)\u001b[0m\u001b[0;34m\u001b[0m\u001b[0m\n",
      "\u001b[0;31mValueError\u001b[0m: too many values to unpack (expected 5)"
     ]
    }
   ],
   "source": [
    "x, z1, a1, z2, a2 = feedfw(theta1, theta2, X)\n",
    "print(cost_regu(a2, y_target, theta1, theta2))\n",
    "print(a2[0])\n",
    "print(y[0])\n",
    "print(y_target[0])"
   ]
  },
  {
   "cell_type": "code",
   "execution_count": null,
   "metadata": {},
   "outputs": [],
   "source": [
    "lr = .01\n",
    "ite = 1000\n"
   ]
  },
  {
   "cell_type": "code",
   "execution_count": null,
   "metadata": {},
   "outputs": [],
   "source": [
    "for it in range(ite):\n",
    "    x, z1, a1, z2, a2 = feedfw(theta1, theta2, X)\n",
    "    theta1, theta2 = backprob(a2, y_target, x, z1, a1, z2, a2, theta1, theta2)\n",
    "\n"
   ]
  },
  {
   "cell_type": "code",
   "execution_count": null,
   "metadata": {},
   "outputs": [],
   "source": [
    "test[range(0, 3), y[:3] - 1]"
   ]
  },
  {
   "cell_type": "code",
   "execution_count": null,
   "metadata": {},
   "outputs": [],
   "source": []
  },
  {
   "cell_type": "code",
   "execution_count": null,
   "metadata": {},
   "outputs": [],
   "source": [
    "def backprob(theta1, theta2, x, y):\n",
    "    #feed fw\n",
    "    for it in range(ite):\n",
    "        "
   ]
  }
 ],
 "metadata": {
  "kernelspec": {
   "display_name": "Python 3",
   "language": "python",
   "name": "python3"
  },
  "language_info": {
   "codemirror_mode": {
    "name": "ipython",
    "version": 3
   },
   "file_extension": ".py",
   "mimetype": "text/x-python",
   "name": "python",
   "nbconvert_exporter": "python",
   "pygments_lexer": "ipython3",
   "version": "3.6.5"
  }
 },
 "nbformat": 4,
 "nbformat_minor": 2
}
