{
 "cells": [
  {
   "cell_type": "code",
   "execution_count": 370,
   "metadata": {},
   "outputs": [
    {
     "name": "stdout",
     "output_type": "stream",
     "text": [
      "(5000, 400)\n",
      "(5000,)\n"
     ]
    }
   ],
   "source": [
    "import scipy.io\n",
    "import numpy as np\n",
    "import matplotlib.pyplot as plt\n",
    "\n",
    "datapath = 'ex4data1.mat'\n",
    "data = scipy.io.loadmat(datapath)\n",
    "X = data['X']\n",
    "y = data['y'].ravel()\n",
    "print(X.shape)\n",
    "print(y.shape)"
   ]
  },
  {
   "cell_type": "code",
   "execution_count": 371,
   "metadata": {},
   "outputs": [],
   "source": [
    "# index = np.where(y == 10)[0]\n",
    "# y[index] = 0"
   ]
  },
  {
   "cell_type": "code",
   "execution_count": 372,
   "metadata": {},
   "outputs": [
    {
     "name": "stdout",
     "output_type": "stream",
     "text": [
      "(4500, 400)\n",
      "(500, 400)\n"
     ]
    }
   ],
   "source": [
    "ids = np.random.permutation(range(X.shape[0]))\n",
    "num_train = 4500\n",
    "X_train = X[ids[:num_train]]\n",
    "y_train = y[ids[:num_train]]\n",
    "X_test = X[ids[num_train:]]\n",
    "y_test = y[ids[num_train:]]\n",
    "print(X_train.shape)\n",
    "print(X_test.shape)"
   ]
  },
  {
   "cell_type": "code",
   "execution_count": 373,
   "metadata": {},
   "outputs": [
    {
     "data": {
      "image/png": "[encoded data removed]",
      "text/plain": [
       "<Figure size 720x720 with 20 Axes>"
      ]
     },
     "metadata": {},
     "output_type": "display_data"
    }
   ],
   "source": [
    "fig = plt.figure(figsize=(10, 10))\n",
    "for i in range(20):\n",
    "    plt.subplot(5, 5, i+1)\n",
    "    plt.xticks([])\n",
    "    plt.yticks([])\n",
    "#     plt.grid('off')\n",
    "    plt.imshow(X_train[i].reshape(20, 20).T, cmap=plt.cm.gray_r)\n",
    "    plt.xlabel(y_train[i])"
   ]
  },
  {
   "cell_type": "code",
   "execution_count": 374,
   "metadata": {},
   "outputs": [
    {
     "name": "stdout",
     "output_type": "stream",
     "text": [
      "(25, 401)\n",
      "(10, 26)\n"
     ]
    }
   ],
   "source": [
    "weightpath = 'ex4weights.mat'\n",
    "weights = scipy.io.loadmat(weightpath)\n",
    "# print(weights)\n",
    "theta1 = weights['Theta1']\n",
    "theta2 = weights['Theta2']\n",
    "print(theta1.shape)\n",
    "print(theta2.shape)"
   ]
  },
  {
   "cell_type": "code",
   "execution_count": 375,
   "metadata": {},
   "outputs": [],
   "source": [
    "def addones(x):\n",
    "    return np.concatenate((np.ones((x.shape[0], 1)), x), axis=1)"
   ]
  },
  {
   "cell_type": "code",
   "execution_count": 376,
   "metadata": {},
   "outputs": [],
   "source": [
    "# a = np.array([1,2,3])\n",
    "# a[y[0]]\n",
    "# b = np.array([2,3,1])\n",
    "# b[a[y[0]]]"
   ]
  },
  {
   "cell_type": "code",
   "execution_count": 377,
   "metadata": {},
   "outputs": [],
   "source": [
    "num_train = 5000\n",
    "num_class = 10"
   ]
  },
  {
   "cell_type": "code",
   "execution_count": 378,
   "metadata": {},
   "outputs": [
    {
     "name": "stdout",
     "output_type": "stream",
     "text": [
      "(5000, 10)\n"
     ]
    }
   ],
   "source": [
    "y_target = np.zeros((num_train, num_class))\n",
    "y_target[range(num_train), y - 1] = 1\n",
    "print(y_target.shape)"
   ]
  },
  {
   "cell_type": "code",
   "execution_count": 379,
   "metadata": {},
   "outputs": [],
   "source": [
    "# def h(theta, x):\n",
    "#     return 1 / (1+np.exp(-np.dot(x, theta)))\n",
    "def sigmoid(z):\n",
    "    return 1 / (1+np.exp(-z))\n",
    "\n",
    "def feedfw(theta1, theta2, x):\n",
    "    x = addones(x) #4500x401\n",
    "    z1 = np.dot(x, theta1.T) #4500x25\n",
    "#     print(z1.shape)\n",
    "    a1 = sigmoid(z1)\n",
    "    a1 = addones(a1) #4500x26\n",
    "    z2 = np.dot(a1, theta2.T) #4500x10\n",
    "#     print(z2.shape)\n",
    "    a2 = sigmoid(z2)\n",
    "#     print(a2.shape)\n",
    "    return x, z1, a1, z2, a2\n",
    "\n",
    "def cost(y_pred, y_target):\n",
    "    return np.sum(-y_target*np.log(y_pred)-(1-y_target)*np.log(1-y_pred)) / num_train\n",
    "\n",
    "def cost_regu(y_pred, y_target, theta1, theta2):\n",
    "    return np.sum(-y_target*np.log(y_pred)-(1-y_target)*np.log(1-y_pred)) / num_train + \\\n",
    "            (np.sum(theta1**2)+np.sum(theta2**2)-np.sum(theta1[:,0]**2)-np.sum(theta2[:,0]**2)) / (2*num_train)"
   ]
  },
  {
   "cell_type": "code",
   "execution_count": 380,
   "metadata": {},
   "outputs": [],
   "source": [
    "def backprob(y_pred, y_target, x, z1, a1, z2, a2, theta1, theta2):\n",
    "    da2 = 1\n",
    "    dz2 = a2 - y_target #1x10\n",
    "    dtheta22 = np.dot(dz2.T, a1) #10x26\n",
    "    da1 = np.dot(dz2, theta2) #1x26\n",
    "    da1 = da1[1:]\n",
    "    dz1 = np.dot(da1, a1*(1-a1)) #1x25\n",
    "    dtheta1 = np.dot(dz1.T, x) #25x401\n",
    "    \n",
    "    theta1 -= lr*dtheta1\n",
    "    theta2 -= lr*dtheta2\n",
    "    \n",
    "    return theta1, theta2\n",
    "    "
   ]
  },
  {
   "cell_type": "code",
   "execution_count": 381,
   "metadata": {},
   "outputs": [
    {
     "name": "stdout",
     "output_type": "stream",
     "text": [
      "0.38376985909092365\n",
      "[1.12661530e-04 1.74127856e-03 2.52696959e-03 1.84032321e-05\n",
      " 9.36263860e-03 3.99270267e-03 5.51517524e-03 4.01468105e-04\n",
      " 6.48072305e-03 9.95734012e-01]\n",
      "10\n",
      "[0. 0. 0. 0. 0. 0. 0. 0. 0. 1.]\n"
     ]
    }
   ],
   "source": [
    "x, z1, a1, z2, a2 = feedfw(theta1, theta2, X)\n",
    "print(cost_regu(a2, y_target, theta1, theta2))\n",
    "print(a2[0])\n",
    "print(y[0])\n",
    "print(y_target[0])"
   ]
  },
  {
   "cell_type": "code",
   "execution_count": 382,
   "metadata": {},
   "outputs": [],
   "source": [
    "lr = .01\n",
    "ite = 1000\n"
   ]
  },
  {
   "cell_type": "code",
   "execution_count": 383,
   "metadata": {},
   "outputs": [
    {
     "ename": "ValueError",
     "evalue": "shapes (4999,26) and (5000,26) not aligned: 26 (dim 1) != 5000 (dim 0)",
     "output_type": "error",
     "traceback": [
      "\u001b[0;31m---------------------------------------------------------------------------\u001b[0m",
      "\u001b[0;31mValueError\u001b[0m                                Traceback (most recent call last)",
      "\u001b[0;32m<ipython-input-383-a272a62f4c96>\u001b[0m in \u001b[0;36m<module>\u001b[0;34m()\u001b[0m\n\u001b[1;32m      1\u001b[0m \u001b[0;32mfor\u001b[0m \u001b[0mit\u001b[0m \u001b[0;32min\u001b[0m \u001b[0mrange\u001b[0m\u001b[0;34m(\u001b[0m\u001b[0mite\u001b[0m\u001b[0;34m)\u001b[0m\u001b[0;34m:\u001b[0m\u001b[0;34m\u001b[0m\u001b[0m\n\u001b[1;32m      2\u001b[0m     \u001b[0mx\u001b[0m\u001b[0;34m,\u001b[0m \u001b[0mz1\u001b[0m\u001b[0;34m,\u001b[0m \u001b[0ma1\u001b[0m\u001b[0;34m,\u001b[0m \u001b[0mz2\u001b[0m\u001b[0;34m,\u001b[0m \u001b[0ma2\u001b[0m \u001b[0;34m=\u001b[0m \u001b[0mfeedfw\u001b[0m\u001b[0;34m(\u001b[0m\u001b[0mtheta1\u001b[0m\u001b[0;34m,\u001b[0m \u001b[0mtheta2\u001b[0m\u001b[0;34m,\u001b[0m \u001b[0mX\u001b[0m\u001b[0;34m)\u001b[0m\u001b[0;34m\u001b[0m\u001b[0m\n\u001b[0;32m----> 3\u001b[0;31m     \u001b[0mtheta1\u001b[0m\u001b[0;34m,\u001b[0m \u001b[0mtheta2\u001b[0m \u001b[0;34m=\u001b[0m \u001b[0mbackprob\u001b[0m\u001b[0;34m(\u001b[0m\u001b[0ma2\u001b[0m\u001b[0;34m,\u001b[0m \u001b[0my_target\u001b[0m\u001b[0;34m,\u001b[0m \u001b[0mx\u001b[0m\u001b[0;34m,\u001b[0m \u001b[0mz1\u001b[0m\u001b[0;34m,\u001b[0m \u001b[0ma1\u001b[0m\u001b[0;34m,\u001b[0m \u001b[0mz2\u001b[0m\u001b[0;34m,\u001b[0m \u001b[0ma2\u001b[0m\u001b[0;34m,\u001b[0m \u001b[0mtheta1\u001b[0m\u001b[0;34m,\u001b[0m \u001b[0mtheta2\u001b[0m\u001b[0;34m)\u001b[0m\u001b[0;34m\u001b[0m\u001b[0m\n\u001b[0m\u001b[1;32m      4\u001b[0m \u001b[0;34m\u001b[0m\u001b[0m\n",
      "\u001b[0;32m<ipython-input-380-de6e1d054ca5>\u001b[0m in \u001b[0;36mbackprob\u001b[0;34m(y_pred, y_target, x, z1, a1, z2, a2, theta1, theta2)\u001b[0m\n\u001b[1;32m      5\u001b[0m     \u001b[0mda1\u001b[0m \u001b[0;34m=\u001b[0m \u001b[0mnp\u001b[0m\u001b[0;34m.\u001b[0m\u001b[0mdot\u001b[0m\u001b[0;34m(\u001b[0m\u001b[0mdz2\u001b[0m\u001b[0;34m,\u001b[0m \u001b[0mtheta2\u001b[0m\u001b[0;34m)\u001b[0m \u001b[0;31m#1x26\u001b[0m\u001b[0;34m\u001b[0m\u001b[0m\n\u001b[1;32m      6\u001b[0m     \u001b[0mda1\u001b[0m \u001b[0;34m=\u001b[0m \u001b[0mda1\u001b[0m\u001b[0;34m[\u001b[0m\u001b[0;36m1\u001b[0m\u001b[0;34m:\u001b[0m\u001b[0;34m]\u001b[0m\u001b[0;34m\u001b[0m\u001b[0m\n\u001b[0;32m----> 7\u001b[0;31m     \u001b[0mdz1\u001b[0m \u001b[0;34m=\u001b[0m \u001b[0mnp\u001b[0m\u001b[0;34m.\u001b[0m\u001b[0mdot\u001b[0m\u001b[0;34m(\u001b[0m\u001b[0mda1\u001b[0m\u001b[0;34m,\u001b[0m \u001b[0ma1\u001b[0m\u001b[0;34m*\u001b[0m\u001b[0;34m(\u001b[0m\u001b[0;36m1\u001b[0m\u001b[0;34m-\u001b[0m\u001b[0ma1\u001b[0m\u001b[0;34m)\u001b[0m\u001b[0;34m)\u001b[0m \u001b[0;31m#1x25\u001b[0m\u001b[0;34m\u001b[0m\u001b[0m\n\u001b[0m\u001b[1;32m      8\u001b[0m     \u001b[0mdtheta1\u001b[0m \u001b[0;34m=\u001b[0m \u001b[0mnp\u001b[0m\u001b[0;34m.\u001b[0m\u001b[0mdot\u001b[0m\u001b[0;34m(\u001b[0m\u001b[0mdz1\u001b[0m\u001b[0;34m.\u001b[0m\u001b[0mT\u001b[0m\u001b[0;34m,\u001b[0m \u001b[0mx\u001b[0m\u001b[0;34m)\u001b[0m \u001b[0;31m#25x401\u001b[0m\u001b[0;34m\u001b[0m\u001b[0m\n\u001b[1;32m      9\u001b[0m \u001b[0;34m\u001b[0m\u001b[0m\n",
      "\u001b[0;31mValueError\u001b[0m: shapes (4999,26) and (5000,26) not aligned: 26 (dim 1) != 5000 (dim 0)"
     ]
    }
   ],
   "source": [
    "for it in range(ite):\n",
    "    x, z1, a1, z2, a2 = feedfw(theta1, theta2, X)\n",
    "    theta1, theta2 = backprob(a2, y_target, x, z1, a1, z2, a2, theta1, theta2)\n",
    "\n"
   ]
  },
  {
   "cell_type": "code",
   "execution_count": null,
   "metadata": {},
   "outputs": [],
   "source": [
    "test[range(0, 3), y[:3] - 1]"
   ]
  },
  {
   "cell_type": "code",
   "execution_count": null,
   "metadata": {},
   "outputs": [],
   "source": []
  },
  {
   "cell_type": "code",
   "execution_count": null,
   "metadata": {},
   "outputs": [],
   "source": [
    "def backprob(theta1, theta2, x, y):\n",
    "    #feed fw\n",
    "    for it in range(ite):\n",
    "        "
   ]
  }
 ],
 "metadata": {
  "kernelspec": {
   "display_name": "Python 3",
   "language": "python",
   "name": "python3"
  },
  "language_info": {
   "codemirror_mode": {
    "name": "ipython",
    "version": 3
   },
   "file_extension": ".py",
   "mimetype": "text/x-python",
   "name": "python",
   "nbconvert_exporter": "python",
   "pygments_lexer": "ipython3",
   "version": "3.6.5"
  }
 },
 "nbformat": 4,
 "nbformat_minor": 2
}
