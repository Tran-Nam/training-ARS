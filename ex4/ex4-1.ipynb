{
 "cells": [
  {
   "cell_type": "code",
   "execution_count": 16,
   "metadata": {},
   "outputs": [
    {
     "name": "stdout",
     "output_type": "stream",
     "text": [
      "(5000, 400)\n",
      "(5000,)\n"
     ]
    }
   ],
   "source": [
    "import scipy.io\n",
    "import numpy as np\n",
    "import matplotlib.pyplot as plt\n",
    "\n",
    "datapath = 'ex4data1.mat'\n",
    "data = scipy.io.loadmat(datapath)\n",
    "X = data['X']\n",
    "y = data['y'].ravel()\n",
    "print(X.shape)\n",
    "print(y.shape)"
   ]
  },
  {
   "cell_type": "code",
   "execution_count": 17,
   "metadata": {},
   "outputs": [],
   "source": [
    "num_sample = 5000\n",
    "num_train = 4500\n",
    "num_class =10"
   ]
  },
  {
   "cell_type": "code",
   "execution_count": 18,
   "metadata": {},
   "outputs": [
    {
     "name": "stdout",
     "output_type": "stream",
     "text": [
      "(5000, 10)\n"
     ]
    }
   ],
   "source": [
    "y_target = np.zeros((num_sample, num_class))\n",
    "y_target[range(num_sample), y - 1] = 1\n",
    "print(y_target.shape)"
   ]
  },
  {
   "cell_type": "code",
   "execution_count": 19,
   "metadata": {},
   "outputs": [],
   "source": [
    "# index = np.where(y == 10)[0]\n",
    "# y[index] = 0"
   ]
  },
  {
   "cell_type": "code",
   "execution_count": 20,
   "metadata": {},
   "outputs": [
    {
     "name": "stdout",
     "output_type": "stream",
     "text": [
      "(4500, 400)\n",
      "(500, 400)\n"
     ]
    }
   ],
   "source": [
    "ids = np.random.permutation(range(X.shape[0]))\n",
    "num_train = 4500\n",
    "X_train = X[ids[:num_train]]\n",
    "y_train = y_target[ids[:num_train]]\n",
    "X_test = X[ids[num_train:]]\n",
    "y_test = y_target[ids[num_train:]]\n",
    "print(X_train.shape)\n",
    "print(X_test.shape)"
   ]
  },
  {
   "cell_type": "code",
   "execution_count": 21,
   "metadata": {},
   "outputs": [
    {
     "data": {
      "image/png": "[encoded data removed]",
      "text/plain": [
       "<Figure size 720x720 with 20 Axes>"
      ]
     },
     "metadata": {},
     "output_type": "display_data"
    }
   ],
   "source": [
    "fig = plt.figure(figsize=(10, 10))\n",
    "for i in range(20):\n",
    "    plt.subplot(5, 5, i+1)\n",
    "    plt.xticks([])\n",
    "    plt.yticks([])\n",
    "#     plt.grid('off')\n",
    "    plt.imshow(X_train[i].reshape(20, 20).T, cmap=plt.cm.gray_r)\n",
    "    plt.xlabel(np.argmax(y_train[i]) + 1)"
   ]
  },
  {
   "cell_type": "code",
   "execution_count": 22,
   "metadata": {},
   "outputs": [
    {
     "name": "stdout",
     "output_type": "stream",
     "text": [
      "(25, 401)\n",
      "(10, 26)\n"
     ]
    }
   ],
   "source": [
    "weightpath = 'ex4weights.mat'\n",
    "weights = scipy.io.loadmat(weightpath)\n",
    "# print(weights)\n",
    "theta1 = weights['Theta1']\n",
    "theta2 = weights['Theta2']\n",
    "print(theta1.shape)\n",
    "print(theta2.shape)"
   ]
  },
  {
   "cell_type": "code",
   "execution_count": 23,
   "metadata": {},
   "outputs": [],
   "source": [
    "def addones(x):\n",
    "    return np.concatenate((np.ones((x.shape[0], 1)), x), axis=1)"
   ]
  },
  {
   "cell_type": "code",
   "execution_count": 24,
   "metadata": {},
   "outputs": [],
   "source": [
    "# a = np.array([1,2,3])\n",
    "# a[y[0]]\n",
    "# b = np.array([2,3,1])\n",
    "# b[a[y[0]]]"
   ]
  },
  {
   "cell_type": "code",
   "execution_count": null,
   "metadata": {},
   "outputs": [],
   "source": []
  },
  {
   "cell_type": "code",
   "execution_count": 25,
   "metadata": {},
   "outputs": [],
   "source": [
    "# def h(theta, x):\n",
    "#     return 1 / (1+np.exp(-np.dot(x, theta)))\n",
    "def sigmoid(z):\n",
    "    return 1 / (1+np.exp(-z))\n",
    "\n",
    "def grad_sigmoid(z):\n",
    "    return sigmoid(z)*(1-sigmoid(z))\n",
    "    \n",
    "def feedfw(theta1, theta2, x):\n",
    "    x = addones(x) #4500x401\n",
    "    z1 = np.dot(x, theta1.T) #4500x25\n",
    "#     print(z1.shape)\n",
    "    a1 = sigmoid(z1)\n",
    "    a1 = addones(a1) #4500x26\n",
    "    z2 = np.dot(a1, theta2.T) #4500x10\n",
    "#     print(z2.shape)\n",
    "    a2 = sigmoid(z2)\n",
    "#     print(a2.shape)\n",
    "    return a2\n",
    "\n",
    "def cost(y_pred, y_target, num_train):\n",
    "    return np.sum(-y_target*np.log(y_pred)-(1-y_target)*np.log(1-y_pred)) / num_train\n",
    "\n",
    "def cost_regu(y_pred, y_target, theta1, theta2, ld, num_train):\n",
    "    return np.sum(-y_target*np.log(y_pred)-(1-y_target)*np.log(1-y_pred)) / num_train + ld * \\\n",
    "            (np.sum(theta1**2)+np.sum(theta2**2)-np.sum(theta1[:,0]**2)-np.sum(theta2[:,0]**2)) / (2*num_train)"
   ]
  },
  {
   "cell_type": "code",
   "execution_count": 26,
   "metadata": {},
   "outputs": [
    {
     "name": "stdout",
     "output_type": "stream",
     "text": [
      "0.2876291651613189\n",
      "0.38376985909092365\n"
     ]
    }
   ],
   "source": [
    "# num_train = 5000\n",
    "ld = 1\n",
    "a2 = feedfw(theta1, theta2, X)\n",
    "print(cost(a2, y_target, num_train=5000))\n",
    "print(cost_regu(a2, y_target, theta1, theta2, ld, num_train=5000))\n",
    "# print(a2[0])\n",
    "# print(y[0])\n",
    "# print(y_target[0])"
   ]
  },
  {
   "cell_type": "markdown",
   "metadata": {},
   "source": []
  },
  {
   "cell_type": "code",
   "execution_count": 27,
   "metadata": {},
   "outputs": [],
   "source": [
    "lr = 1\n",
    "ite = 100000"
   ]
  },
  {
   "cell_type": "code",
   "execution_count": 28,
   "metadata": {},
   "outputs": [
    {
     "name": "stdout",
     "output_type": "stream",
     "text": [
      "Ite 0 Lost 18.197428487314838\n",
      "Ite 10000 Lost 0.03768680113441609\n",
      "Ite 20000 Lost 0.015157573554464088\n",
      "Ite 30000 Lost 0.00876293022499173\n",
      "Ite 40000 Lost 0.005926040080159198\n",
      "Ite 50000 Lost 0.00442848428682779\n",
      "Ite 60000 Lost 0.0035210001078516636\n",
      "Ite 70000 Lost 0.0029122972970231616\n",
      "Ite 80000 Lost 0.0024756558078609186\n",
      "Ite 90000 Lost 0.002147461207129389\n"
     ]
    }
   ],
   "source": [
    "num_train = X_train.shape[0]\n",
    "num_feature = X_train.shape[1]\n",
    "num_hidden = 25\n",
    "w1 = np.random.rand(num_feature, num_hidden) / np.sqrt(num_feature) #400x25\n",
    "b1 = np.zeros((1, num_hidden)) #1x25\n",
    "w2 = np.random.rand(num_hidden, num_class) / np.sqrt(num_hidden) #25x10\n",
    "b2 = np.zeros((1, num_class)) #1x10\n",
    "# print(w1.shape, w2.shape, b1.shape, b2.shape)   \n",
    "\n",
    "for it in range(ite):\n",
    "    #feed forward\n",
    "    z1 = np.dot(X_train, w1) + b1 #4500x25\n",
    "    a1 = sigmoid(z1)\n",
    "    z2 = np.dot(a1, w2) + b2 #4500x10\n",
    "    a2 = sigmoid(z2)\n",
    "    \n",
    "    #lost\n",
    "    lost = cost(a2, y_train, num_train)\n",
    "    if it%(ite/10) == 0:\n",
    "        print('Ite {0} Lost {1}'.format(it, lost))\n",
    "        \n",
    "    #backprop\n",
    "    dz2 = (a2 - y_train) / num_train #4500x10\n",
    "    dw2 = np.dot(a1.T, dz2) #25x10\n",
    "    db2 = np.sum(dz2, axis=0, keepdims=True)\n",
    "    da1 = np.dot(dz2, w2.T) #4500x25\n",
    "#     print(a1[0])\n",
    "#     dz1 = da1 * (a1*(1-a1))\n",
    "    dz1 = da1 * grad_sigmoid(z1)\n",
    "    dw1 = np.dot(X_train.T, dz1) #400x25\n",
    "    db1 = np.sum(dz1, axis=0, keepdims=True)\n",
    "    \n",
    "#     dw1 /= num_train\n",
    "#     dw2 /= num_train\n",
    "#     db1 /= num_train\n",
    "#     db2 /= num_train\n",
    "    \n",
    "    #update\n",
    "    w1 -= lr*dw1\n",
    "    b1 -= lr*db1\n",
    "    w2 -= lr*dw2\n",
    "    b2 -= lr*db2"
   ]
  },
  {
   "cell_type": "code",
   "execution_count": 29,
   "metadata": {},
   "outputs": [
    {
     "name": "stdout",
     "output_type": "stream",
     "text": [
      "Acc_train: 100.00\n"
     ]
    }
   ],
   "source": [
    "z1 = np.dot(X_train, w1) + b1 #4500x25\n",
    "a1 = sigmoid(z1)\n",
    "z2 = np.dot(a1, w2) + b2 #4500x10\n",
    "a2 = sigmoid(z2)\n",
    "\n",
    "acc_train = np.mean(np.argmax(a2, axis=1) == np.argmax(y_train, axis=1))\n",
    "print('Acc_train: %.2f'%(100*acc_train))"
   ]
  },
  {
   "cell_type": "code",
   "execution_count": 30,
   "metadata": {},
   "outputs": [
    {
     "name": "stdout",
     "output_type": "stream",
     "text": [
      "Acc_test: 90.60\n"
     ]
    }
   ],
   "source": [
    "z1 = np.dot(X_test, w1) + b1 #4500x25\n",
    "a1 = sigmoid(z1)\n",
    "z2 = np.dot(a1, w2) + b2 #4500x10\n",
    "a2 = sigmoid(z2)\n",
    "\n",
    "acc_test = np.mean(np.argmax(a2, axis=1) == np.argmax(y_test, axis=1))\n",
    "print('Acc_test: %.2f'%(100*acc_test))"
   ]
  },
  {
   "cell_type": "code",
   "execution_count": null,
   "metadata": {},
   "outputs": [],
   "source": []
  },
  {
   "cell_type": "code",
   "execution_count": null,
   "metadata": {},
   "outputs": [],
   "source": []
  },
  {
   "cell_type": "code",
   "execution_count": null,
   "metadata": {},
   "outputs": [],
   "source": [
    "\n",
    "        "
   ]
  }
 ],
 "metadata": {
  "kernelspec": {
   "display_name": "Python 3",
   "language": "python",
   "name": "python3"
  },
  "language_info": {
   "codemirror_mode": {
    "name": "ipython",
    "version": 3
   },
   "file_extension": ".py",
   "mimetype": "text/x-python",
   "name": "python",
   "nbconvert_exporter": "python",
   "pygments_lexer": "ipython3",
   "version": "3.6.6"
  }
 },
 "nbformat": 4,
 "nbformat_minor": 2
}
