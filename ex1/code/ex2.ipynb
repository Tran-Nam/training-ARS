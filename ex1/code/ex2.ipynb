{
 "cells": [
  {
   "cell_type": "code",
   "execution_count": 19,
   "metadata": {},
   "outputs": [
    {
     "name": "stdout",
     "output_type": "stream",
     "text": [
      "(47, 2)\n",
      "(47, 1)\n"
     ]
    }
   ],
   "source": [
    "import numpy as np\n",
    "import matplotlib.pyplot as plt\n",
    "\n",
    "\n",
    "path = '../ex1data2.txt'\n",
    "X = []\n",
    "Y = []\n",
    "with open(path) as f:\n",
    "    for line in f:\n",
    "        line = line.split(',')\n",
    "        X.append([float(line[0]), float(line[1])])\n",
    "        Y.append([float(line[2])])\n",
    "X = np.array(X)\n",
    "Y = np.array(Y)\n",
    "print(X.shape)\n",
    "print(Y.shape)"
   ]
  },
  {
   "cell_type": "code",
   "execution_count": 51,
   "metadata": {},
   "outputs": [],
   "source": [
    "X_max = np.array([[np.amax(X[:, column_id])\n",
    "                  for column_id in range(X.shape[1])]\n",
    "                 for _ in range(X.shape[0])])\n",
    "X_min = np.array([[np.amin(X[:, column_id])\n",
    "                  for column_id in range(X.shape[1])]\n",
    "                 for _ in range(X.shape[0])])\n",
    "X_mean = np.array([[np.mean(X[:, column_id])\n",
    "                  for column_id in range(X.shape[1])]\n",
    "                 for _ in range(X.shape[0])])\n",
    "# print(X_max)"
   ]
  },
  {
   "cell_type": "code",
   "execution_count": 59,
   "metadata": {},
   "outputs": [
    {
     "data": {
      "text/plain": [
       "array([852.,   1.])"
      ]
     },
     "execution_count": 59,
     "metadata": {},
     "output_type": "execute_result"
    }
   ],
   "source": [
    "xmax = np.max(X, axis=0)\n",
    "xmin = np.min(X, axis=0)\n",
    "xmean = np.mean(X, axis=0)\n",
    "xmax\n",
    "xmin"
   ]
  },
  {
   "cell_type": "code",
   "execution_count": 61,
   "metadata": {},
   "outputs": [],
   "source": [
    "xnor = (X - xmean) / (xmax - xmin)\n",
    "xnor = normalize(xnor)"
   ]
  },
  {
   "cell_type": "code",
   "execution_count": 21,
   "metadata": {},
   "outputs": [
    {
     "name": "stdout",
     "output_type": "stream",
     "text": [
      "47\n"
     ]
    }
   ],
   "source": [
    "print(X.shape[0])"
   ]
  },
  {
   "cell_type": "code",
   "execution_count": 22,
   "metadata": {},
   "outputs": [],
   "source": [
    "def normalize(x):\n",
    "    x = (x - X_mean) / (X_max - X_min)\n",
    "    ones = np.ones((x.shape[0], 1))\n",
    "    x = np.concatenate((ones, x), axis=1)\n",
    "    return x"
   ]
  },
  {
   "cell_type": "code",
   "execution_count": 23,
   "metadata": {},
   "outputs": [
    {
     "data": {
      "text/plain": [
       "(2, 1)"
      ]
     },
     "execution_count": 23,
     "metadata": {},
     "output_type": "execute_result"
    }
   ],
   "source": [
    "ones = np.ones((2, 1))\n",
    "ones.shape"
   ]
  },
  {
   "cell_type": "code",
   "execution_count": 29,
   "metadata": {},
   "outputs": [
    {
     "name": "stdout",
     "output_type": "stream",
     "text": [
      "(47, 3)\n"
     ]
    }
   ],
   "source": [
    "X_nor = normalize(X)\n",
    "print(X_nor.shape)"
   ]
  },
  {
   "cell_type": "code",
   "execution_count": 26,
   "metadata": {},
   "outputs": [],
   "source": [
    "def computeCost(theta, x, y):\n",
    "    cost = (x.dot(theta) - y)**2\n",
    "    return np.sum(cost) / (2*x.shape[0])"
   ]
  },
  {
   "cell_type": "code",
   "execution_count": 27,
   "metadata": {},
   "outputs": [],
   "source": [
    "def GD(theta_init, x, y, lr, ite):\n",
    "    \n",
    "    theta = theta_init\n",
    "    for it in range(ite):\n",
    "        theta = theta - lr*(x.T.dot(x.dot(theta) - y)) / (x.shape[0])\n",
    "    return theta"
   ]
  },
  {
   "cell_type": "code",
   "execution_count": 63,
   "metadata": {},
   "outputs": [],
   "source": [
    "lr = .1\n",
    "ite = 50\n",
    "theta_init = np.zeros((3, 1))\n"
   ]
  },
  {
   "cell_type": "code",
   "execution_count": 28,
   "metadata": {},
   "outputs": [
    {
     "name": "stdout",
     "output_type": "stream",
     "text": [
      "[[340412.65957447]\n",
      " [468876.27895274]\n",
      " [ 10267.18583889]]\n"
     ]
    }
   ],
   "source": [
    "theta_op = GD(theta_init, X_nor, Y, lr, ite)\n",
    "print(theta_op)"
   ]
  },
  {
   "cell_type": "code",
   "execution_count": 31,
   "metadata": {},
   "outputs": [],
   "source": [
    "def GD2(theta_init, x, y, lr, ite):\n",
    "    cost = []\n",
    "    theta = theta_init\n",
    "    for it in range(ite):        \n",
    "        theta = theta - lr*(x.T.dot(x.dot(theta) - y)) / (x.shape[0])\n",
    "        cost.append(computeCost(theta, X_nor, Y))\n",
    "    return theta, cost"
   ]
  },
  {
   "cell_type": "code",
   "execution_count": 38,
   "metadata": {},
   "outputs": [],
   "source": [
    "theta_op, cost = GD2(theta_init, X_nor, Y, lr, ite)\n"
   ]
  },
  {
   "cell_type": "code",
   "execution_count": 41,
   "metadata": {},
   "outputs": [
    {
     "data": {
      "image/png": "[encoded data removed]",
      "text/plain": [
       "<Figure size 432x288 with 1 Axes>"
      ]
     },
     "metadata": {},
     "output_type": "display_data"
    }
   ],
   "source": [
    "itplot = range(ite)\n",
    "plt.plot(itplot, cost, label='lr = %d' %lr)\n",
    "plt.xlabel('Iteration')\n",
    "plt.ylabel('Cost')\n",
    "plt.legend()\n",
    "plt.show()\n"
   ]
  },
  {
   "cell_type": "code",
   "execution_count": 67,
   "metadata": {},
   "outputs": [
    {
     "data": {
      "image/png": "[encoded data removed]",
      "text/plain": [
       "<Figure size 432x288 with 1 Axes>"
      ]
     },
     "metadata": {},
     "output_type": "display_data"
    }
   ],
   "source": [
    "lrs = [.01, .03, .1, .3]\n",
    "for lr in lrs:\n",
    "    theta_op, cost = GD2(theta_init, X_nor, Y, lr, ite)\n",
    "    itplot = range(ite)\n",
    "    plt.plot(itplot, cost, label='lr = %.2f' %lr)\n",
    "plt.xlabel('Iteration')\n",
    "plt.ylabel('Cost')\n",
    "plt.legend()\n",
    "plt.title('Compare learning rate')\n",
    "plt.show()"
   ]
  },
  {
   "cell_type": "code",
   "execution_count": null,
   "metadata": {},
   "outputs": [],
   "source": []
  }
 ],
 "metadata": {
  "kernelspec": {
   "display_name": "Python 3",
   "language": "python",
   "name": "python3"
  },
  "language_info": {
   "codemirror_mode": {
    "name": "ipython",
    "version": 3
   },
   "file_extension": ".py",
   "mimetype": "text/x-python",
   "name": "python",
   "nbconvert_exporter": "python",
   "pygments_lexer": "ipython3",
   "version": "3.6.5"
  }
 },
 "nbformat": 4,
 "nbformat_minor": 2
}
