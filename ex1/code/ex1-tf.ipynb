{
 "cells": [
  {
   "cell_type": "code",
   "execution_count": 1,
   "metadata": {},
   "outputs": [
    {
     "name": "stdout",
     "output_type": "stream",
     "text": [
      "(97, 1)\n",
      "(97, 1)\n"
     ]
    }
   ],
   "source": [
    "import numpy as np\n",
    "import matplotlib.pyplot as plt\n",
    "\n",
    "X = []\n",
    "Y = []\n",
    "path = '../ex1data1.txt'\n",
    "with open(path) as f:\n",
    "    for line in f:\n",
    "        line = line.split(',')\n",
    "        X.append([float(line[0])])\n",
    "        Y.append([float(line[1])])\n",
    "X = np.array(X)\n",
    "Y = np.array(Y)\n",
    "\n",
    "print(X.shape)\n",
    "print(Y.shape)"
   ]
  },
  {
   "cell_type": "code",
   "execution_count": 2,
   "metadata": {},
   "outputs": [
    {
     "name": "stdout",
     "output_type": "stream",
     "text": [
      "(97, 2)\n"
     ]
    }
   ],
   "source": [
    "ones = np.ones((X.shape[0], 1))\n",
    "X_nor = np.concatenate((ones, X), axis = 1)\n",
    "print(X_nor.shape)"
   ]
  },
  {
   "cell_type": "code",
   "execution_count": 3,
   "metadata": {},
   "outputs": [
    {
     "data": {
      "image/png": "[encoded data removed]",
      "text/plain": [
       "<Figure size 432x288 with 1 Axes>"
      ]
     },
     "metadata": {},
     "output_type": "display_data"
    }
   ],
   "source": [
    "plt.plot(X, Y, 'r+')\n",
    "plt.xlabel('Population of City in 10,000s')\n",
    "plt.ylabel('Profit in $10,000s')\n",
    "# plt.legend()\n",
    "plt.show()"
   ]
  },
  {
   "cell_type": "code",
   "execution_count": 4,
   "metadata": {},
   "outputs": [],
   "source": [
    "import tensorflow as tf"
   ]
  },
  {
   "cell_type": "code",
   "execution_count": 5,
   "metadata": {},
   "outputs": [],
   "source": [
    "X = tf.placeholder(tf.float32)\n",
    "y = tf.placeholder(tf.float32)\n",
    "\n",
    "w = tf.Variable(tf.zeros([2, 1]))\n",
    "\n"
   ]
  },
  {
   "cell_type": "code",
   "execution_count": 6,
   "metadata": {},
   "outputs": [],
   "source": [
    "lr = 0.01\n",
    "epochs = 10000\n",
    "\n",
    "y_pred = tf.matmul(X, w)\n",
    "\n",
    "cost = tf.reduce_mean(tf.square(y_pred - y))\n",
    "\n",
    "opt = tf.train.GradientDescentOptimizer(learning_rate=lr).minimize(cost)\n",
    "\n",
    "init = tf.global_variables_initializer()\n",
    "\n",
    "writer = tf.summary.FileWriter('./graphs/ex1', tf.get_default_graph())"
   ]
  },
  {
   "cell_type": "code",
   "execution_count": 7,
   "metadata": {},
   "outputs": [],
   "source": [
    "# print(type(X_nor))\n",
    "# print(type(Y))"
   ]
  },
  {
   "cell_type": "code",
   "execution_count": 8,
   "metadata": {},
   "outputs": [
    {
     "name": "stdout",
     "output_type": "stream",
     "text": [
      "Epoch 0 Loss 64.14546966552734\n",
      "Epoch 100 Loss 10.351393699645996\n",
      "Epoch 200 Loss 9.632564544677734\n",
      "Epoch 300 Loss 9.283491134643555\n",
      "Epoch 400 Loss 9.113975524902344\n",
      "Epoch 500 Loss 9.031657218933105\n",
      "Epoch 600 Loss 8.991682052612305\n",
      "Epoch 700 Loss 8.972269058227539\n",
      "Epoch 800 Loss 8.962841987609863\n",
      "Epoch 900 Loss 8.958264350891113\n",
      "Epoch 1000 Loss 8.95604133605957\n",
      "Epoch 1100 Loss 8.954960823059082\n",
      "Epoch 1200 Loss 8.954437255859375\n",
      "Epoch 1300 Loss 8.954182624816895\n",
      "Epoch 1400 Loss 8.954059600830078\n",
      "Epoch 1500 Loss 8.953998565673828\n",
      "Epoch 1600 Loss 8.953969955444336\n",
      "Epoch 1700 Loss 8.953956604003906\n",
      "Epoch 1800 Loss 8.953948020935059\n",
      "Epoch 1900 Loss 8.95394515991211\n",
      "Epoch 2000 Loss 8.953943252563477\n",
      "Epoch 2100 Loss 8.95394229888916\n",
      "Epoch 2200 Loss 8.95394229888916\n",
      "Epoch 2300 Loss 8.953941345214844\n",
      "Epoch 2400 Loss 8.95394229888916\n",
      "Epoch 2500 Loss 8.953943252563477\n",
      "Epoch 2600 Loss 8.953941345214844\n",
      "Epoch 2700 Loss 8.95394229888916\n",
      "Epoch 2800 Loss 8.95394229888916\n",
      "Epoch 2900 Loss 8.95394229888916\n",
      "Epoch 3000 Loss 8.953941345214844\n",
      "Epoch 3100 Loss 8.95394229888916\n",
      "Epoch 3200 Loss 8.953943252563477\n",
      "Epoch 3300 Loss 8.95394229888916\n",
      "Epoch 3400 Loss 8.95394229888916\n",
      "Epoch 3500 Loss 8.95394229888916\n",
      "Epoch 3600 Loss 8.95394229888916\n",
      "Epoch 3700 Loss 8.95394229888916\n",
      "Epoch 3800 Loss 8.95394229888916\n",
      "Epoch 3900 Loss 8.95394229888916\n",
      "Epoch 4000 Loss 8.95394229888916\n",
      "Epoch 4100 Loss 8.95394229888916\n",
      "Epoch 4200 Loss 8.95394229888916\n",
      "Epoch 4300 Loss 8.95394229888916\n",
      "Epoch 4400 Loss 8.95394229888916\n",
      "Epoch 4500 Loss 8.95394229888916\n",
      "Epoch 4600 Loss 8.95394229888916\n",
      "Epoch 4700 Loss 8.95394229888916\n",
      "Epoch 4800 Loss 8.95394229888916\n",
      "Epoch 4900 Loss 8.95394229888916\n",
      "Epoch 5000 Loss 8.95394229888916\n",
      "Epoch 5100 Loss 8.95394229888916\n",
      "Epoch 5200 Loss 8.95394229888916\n",
      "Epoch 5300 Loss 8.95394229888916\n",
      "Epoch 5400 Loss 8.95394229888916\n",
      "Epoch 5500 Loss 8.95394229888916\n",
      "Epoch 5600 Loss 8.95394229888916\n",
      "Epoch 5700 Loss 8.95394229888916\n",
      "Epoch 5800 Loss 8.95394229888916\n",
      "Epoch 5900 Loss 8.95394229888916\n",
      "Epoch 6000 Loss 8.95394229888916\n",
      "Epoch 6100 Loss 8.95394229888916\n",
      "Epoch 6200 Loss 8.95394229888916\n",
      "Epoch 6300 Loss 8.95394229888916\n",
      "Epoch 6400 Loss 8.95394229888916\n",
      "Epoch 6500 Loss 8.95394229888916\n",
      "Epoch 6600 Loss 8.95394229888916\n",
      "Epoch 6700 Loss 8.95394229888916\n",
      "Epoch 6800 Loss 8.95394229888916\n",
      "Epoch 6900 Loss 8.95394229888916\n",
      "Epoch 7000 Loss 8.95394229888916\n",
      "Epoch 7100 Loss 8.95394229888916\n",
      "Epoch 7200 Loss 8.95394229888916\n",
      "Epoch 7300 Loss 8.95394229888916\n",
      "Epoch 7400 Loss 8.95394229888916\n",
      "Epoch 7500 Loss 8.95394229888916\n",
      "Epoch 7600 Loss 8.95394229888916\n",
      "Epoch 7700 Loss 8.95394229888916\n",
      "Epoch 7800 Loss 8.95394229888916\n",
      "Epoch 7900 Loss 8.95394229888916\n",
      "Epoch 8000 Loss 8.95394229888916\n",
      "Epoch 8100 Loss 8.95394229888916\n",
      "Epoch 8200 Loss 8.95394229888916\n",
      "Epoch 8300 Loss 8.95394229888916\n",
      "Epoch 8400 Loss 8.95394229888916\n",
      "Epoch 8500 Loss 8.95394229888916\n",
      "Epoch 8600 Loss 8.95394229888916\n",
      "Epoch 8700 Loss 8.95394229888916\n",
      "Epoch 8800 Loss 8.95394229888916\n",
      "Epoch 8900 Loss 8.95394229888916\n",
      "Epoch 9000 Loss 8.95394229888916\n",
      "Epoch 9100 Loss 8.95394229888916\n",
      "Epoch 9200 Loss 8.95394229888916\n",
      "Epoch 9300 Loss 8.95394229888916\n",
      "Epoch 9400 Loss 8.95394229888916\n",
      "Epoch 9500 Loss 8.95394229888916\n",
      "Epoch 9600 Loss 8.95394229888916\n",
      "Epoch 9700 Loss 8.95394229888916\n",
      "Epoch 9800 Loss 8.95394229888916\n",
      "Epoch 9900 Loss 8.95394229888916\n",
      "Done!\n",
      "w =  [[-3.8957481]\n",
      " [ 1.1930304]]\n"
     ]
    }
   ],
   "source": [
    "with tf.Session() as sess:\n",
    "    sess.run(init)\n",
    "    \n",
    "    for epoch in range(epochs):\n",
    "        _, loss = sess.run([opt, cost], {X: X_nor, y: Y})\n",
    "        if epoch%100==0:\n",
    "            print('Epoch {0} Loss {1}'.format(epoch, loss))\n",
    "    print('Done!')\n",
    "    \n",
    "    print('w = ', sess.run(w))\n",
    "    \n",
    "    writer.close()\n",
    "    \n",
    "#     plt.plot()\n",
    "#     sess.run(y_pred, {X: X_nor})\n",
    "    \n",
    "#     sess.run(cost, {X:X_nor, y: Y})\n",
    "    \n",
    "#     sess.run(opt, {X:X_nor, y: Y})"
   ]
  },
  {
   "cell_type": "code",
   "execution_count": 92,
   "metadata": {},
   "outputs": [],
   "source": []
  },
  {
   "cell_type": "code",
   "execution_count": null,
   "metadata": {},
   "outputs": [],
   "source": []
  },
  {
   "cell_type": "code",
   "execution_count": null,
   "metadata": {},
   "outputs": [],
   "source": []
  }
 ],
 "metadata": {
  "kernelspec": {
   "display_name": "Python 3",
   "language": "python",
   "name": "python3"
  },
  "language_info": {
   "codemirror_mode": {
    "name": "ipython",
    "version": 3
   },
   "file_extension": ".py",
   "mimetype": "text/x-python",
   "name": "python",
   "nbconvert_exporter": "python",
   "pygments_lexer": "ipython3",
   "version": "3.6.6"
  }
 },
 "nbformat": 4,
 "nbformat_minor": 2
}
