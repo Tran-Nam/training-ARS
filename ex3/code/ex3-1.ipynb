{
 "cells": [
  {
   "cell_type": "code",
   "execution_count": 49,
   "metadata": {},
   "outputs": [
    {
     "name": "stdout",
     "output_type": "stream",
     "text": [
      "(5000, 400)\n"
     ]
    }
   ],
   "source": [
    "import scipy.io \n",
    "import numpy as np \n",
    "import matplotlib.pyplot as plt \n",
    "import copy\n",
    "from scipy.optimize import minimize\n",
    "\n",
    "path = '../datasets/ex3data1.mat'\n",
    "mat = scipy.io.loadmat(path)\n",
    "X = mat['X'] # 5000 * 400\n",
    "y = mat['y'] # 5000 * 1\n",
    "print(X.shape)"
   ]
  },
  {
   "cell_type": "code",
   "execution_count": 50,
   "metadata": {},
   "outputs": [],
   "source": [
    "index = np.where(y==10)[0]\n",
    "y[index] = 0"
   ]
  },
  {
   "cell_type": "code",
   "execution_count": 51,
   "metadata": {},
   "outputs": [
    {
     "name": "stdout",
     "output_type": "stream",
     "text": [
      "(4500, 400)\n",
      "(4500, 1)\n",
      "(500, 400)\n",
      "(500, 1)\n"
     ]
    }
   ],
   "source": [
    "ids = np.random.permutation(range(X.shape[0]))\n",
    "num_train = 4500\n",
    "X_train = X[ids[:num_train]]\n",
    "y_train = y[ids[:num_train]]\n",
    "X_test = X[ids[num_train:]]\n",
    "y_test = y[ids[num_train:]]\n",
    "print(X_train.shape)\n",
    "print(y_train.shape)\n",
    "print(X_test.shape)\n",
    "print(y_test.shape)\n",
    "# X_train"
   ]
  },
  {
   "cell_type": "code",
   "execution_count": 52,
   "metadata": {},
   "outputs": [],
   "source": [
    "# x = (x-x_mean)/(x_max-x_min)\n",
    "# mean=0\n",
    "x_mean = np.mean(X_train, axis=0)\n",
    "def normalize(x):\n",
    "    x = (x-x_mean) / 255\n",
    "    return x\n",
    "\n",
    "    "
   ]
  },
  {
   "cell_type": "code",
   "execution_count": 53,
   "metadata": {},
   "outputs": [],
   "source": [
    "# add ones\n",
    "def addones(x):\n",
    "    ones = np.ones((x.shape[0], 1))\n",
    "    x_new = np.concatenate((ones, x), axis=1)\n",
    "    return x_new"
   ]
  },
  {
   "cell_type": "code",
   "execution_count": 54,
   "metadata": {},
   "outputs": [
    {
     "name": "stderr",
     "output_type": "stream",
     "text": [
      "/home/phuongnam/.local/lib/python3.6/site-packages/matplotlib/cbook/deprecation.py:107: MatplotlibDeprecationWarning: Passing one of 'on', 'true', 'off', 'false' as a boolean is deprecated; use an actual boolean (True/False) instead.\n",
      "  warnings.warn(message, mplDeprecation, stacklevel=1)\n"
     ]
    },
    {
     "data": {
      "image/png": "[encoded data removed]",
      "text/plain": [
       "<Figure size 720x720 with 20 Axes>"
      ]
     },
     "metadata": {},
     "output_type": "display_data"
    }
   ],
   "source": [
    "# %matplotlib inline\n",
    "# Visualize data\n",
    "plt.figure(figsize=(10, 10))\n",
    "for i in range(20):\n",
    "    plt.subplot(5, 5, i+1)\n",
    "    plt.xticks([])\n",
    "    plt.yticks([])\n",
    "    plt.grid('off')\n",
    "    plt.imshow(X_train[i].reshape(20, 20).T, cmap=plt.cm.binary)\n",
    "    plt.xlabel(y_train[i])\n",
    "#     plt.show()\n",
    "    "
   ]
  },
  {
   "cell_type": "code",
   "execution_count": 55,
   "metadata": {},
   "outputs": [
    {
     "data": {
      "text/plain": [
       "(4500, 401)"
      ]
     },
     "execution_count": 55,
     "metadata": {},
     "output_type": "execute_result"
    }
   ],
   "source": [
    "# normalize data (only in train data)\n",
    "X_train = normalize(X_train)\n",
    "X_train = addones(X_train)\n",
    "X_train.shape"
   ]
  },
  {
   "cell_type": "code",
   "execution_count": 56,
   "metadata": {},
   "outputs": [],
   "source": [
    "K = 10 #num class"
   ]
  },
  {
   "cell_type": "code",
   "execution_count": 57,
   "metadata": {},
   "outputs": [],
   "source": [
    "# cac ham thuat toan\n",
    "def h(theta, x):\n",
    "    return 1 / (1+np.exp(-np.dot(x, theta)))\n",
    "def grad(theta, x, y):\n",
    "    return np.dot(x.T, h(theta, x)-y) / x.shape[0]\n",
    "def GD(theta_init, x, y, lr, ite):\n",
    "    theta = theta_init\n",
    "    for it in range(ite):\n",
    "        if it%(ite/10) == 0:\n",
    "            print(cost(theta, x, y))\n",
    "        theta -= lr*grad(theta, x, y)\n",
    "    return theta\n",
    "def cost(theta, x, y):\n",
    "    cost = np.dot(y.T, np.log(h(theta, x))) + np.dot((1-y).T, np.log(1-h(theta, x)))\n",
    "    return -np.sum(cost)/x.shape[0]"
   ]
  },
  {
   "cell_type": "code",
   "execution_count": 58,
   "metadata": {},
   "outputs": [],
   "source": [
    "# khoi tao gia tri\n",
    "theta_init = np.zeros((X_train.shape[1],1))\n",
    "lr = 1\n",
    "ite = 1000000"
   ]
  },
  {
   "cell_type": "code",
   "execution_count": 59,
   "metadata": {},
   "outputs": [],
   "source": [
    "# normalize test data \n",
    "X_test = normalize(X_test)\n",
    "X_test = addones(X_test)\n",
    "# print(X_test.mean())"
   ]
  },
  {
   "cell_type": "code",
   "execution_count": 60,
   "metadata": {},
   "outputs": [],
   "source": [
    "# print(y_pred)\n",
    "# print((np.max(y_pred, axis=1)))"
   ]
  },
  {
   "cell_type": "code",
   "execution_count": 61,
   "metadata": {},
   "outputs": [
    {
     "name": "stdout",
     "output_type": "stream",
     "text": [
      "454\n",
      "451\n",
      "448\n",
      "445\n",
      "455\n",
      "454\n",
      "429\n",
      "455\n",
      "452\n",
      "457\n"
     ]
    }
   ],
   "source": [
    "y_pred_train = np.zeros((y_train.shape[0], 1))\n",
    "y_pred = np.zeros((y_test.shape[0], 1))\n",
    "for k in range(K):\n",
    "#     X_train_, y_train_, X_test_, y_test_ = X_train, y_train, X_test, y_test\n",
    "#     print('############################')\n",
    "#     print(k)\n",
    "    X_train_ = copy.deepcopy(X_train)\n",
    "    y_train_ = copy.deepcopy(y_train)\n",
    "    X_test_ = copy.deepcopy(X_test)\n",
    "    y_test_ = copy.deepcopy(y_test)\n",
    "    \n",
    "    ind = np.where(y_train_ == k)[0]\n",
    "    print(len(ind)) #positve example\n",
    "    y_train_[ind] = 1\n",
    "    for i in range(y_train_.shape[0]):\n",
    "        if i not in ind:\n",
    "            y_train_[i] = 0\n",
    "#     print(X_train_)\n",
    "#     print(y_train_)\n",
    "#     print(y_train_[6])\n",
    "\n",
    "#     print(theta_init)\n",
    "#     print(lr)\n",
    "#     print(ite)\n",
    "\n",
    "#     theta_op = GD(theta_init, X_train_, y_train_, lr, ite)\n",
    "    \n",
    "#     ind_ = np.where(y_test_ == k)[0]\n",
    "#     y_test_[ind_] = 1\n",
    "#     for i in range(y_test_.shape[0]):\n",
    "#         if i not in ind_:\n",
    "#             y_test_[i] = 0\n",
    "#     print(theta_op.mean())        \n",
    "#     pred = h(theta_op, X_train_)\n",
    "#     print(pred)\n",
    "#     pred = (np.sign(h(theta_op, X_test_) - 0.5) + 1) / 2\n",
    "#     print(pred)\n",
    "#     print(len(np.where((np.sign(pred - 0.5)+ 1) / 2 == 1)[0]))\n",
    "#     y_pred = np.hstack((y_pred, pred))\n",
    "#     if k==2:\n",
    "#         break\n",
    "#     pred = (np.sign(h(theta_op, X_test) - 0.5)+ 1) / 2\n",
    "    theta_op = minimize(cost, x0=theta_init, args=(X_train_, y_train_)).x\n",
    "    pred = h(theta_op, X_test_)\n",
    "    pred = pred.reshape(y_test_.shape)\n",
    "    pred_train = h(theta_op, X_train_)\n",
    "    pred_train = pred_train.reshape(y_train_.shape)\n",
    "#     print(y_pred.shape)\n",
    "#     print(pred.shape)\n",
    "    y_pred = np.concatenate((y_pred, pred), axis=1)\n",
    "    y_pred_train = np.concatenate((y_pred_train, pred_train), axis=1)"
   ]
  },
  {
   "cell_type": "code",
   "execution_count": 62,
   "metadata": {},
   "outputs": [
    {
     "name": "stdout",
     "output_type": "stream",
     "text": [
      "0.9091111111111111\n",
      "0.934\n"
     ]
    }
   ],
   "source": [
    "# print(np.argmax(y_pred, axis=1)-1)\n",
    "# print(y_test.ravel())\n",
    "predict_train = np.argmax(y_pred_train, axis=1) - 1\n",
    "print(np.mean(predict_train == y_train.ravel()))\n",
    "\n",
    "predict = np.argmax(y_pred, axis=1) - 1\n",
    "print(np.mean(predict == y_test.ravel()))"
   ]
  },
  {
   "cell_type": "code",
   "execution_count": 63,
   "metadata": {},
   "outputs": [],
   "source": [
    "# y = y.ravel()\n",
    "# predict = np.argmax(y_pred, axis=1) - 1\n",
    "# print(y)\n",
    "# print(predict)\n",
    "# # print(np.mean(predict == y))"
   ]
  },
  {
   "cell_type": "code",
   "execution_count": 64,
   "metadata": {},
   "outputs": [],
   "source": [
    "# ind = np.where(y_train == 0)[0]\n",
    "# # x_train = X_train[ind, :][0]\n",
    "# # x_train.shape\n",
    "# print(len(ind))\n",
    "# y_train[ind] = 1\n",
    "# for i in range(y_train.shape[0]):\n",
    "#     if i not in ind:\n",
    "#         y_train[i] = 0\n",
    "    \n",
    "# # [y_train[i] = 0 for i in range((y_train.shape[0])) if i not in ind]\n",
    "# print(y_train.shape)"
   ]
  },
  {
   "cell_type": "code",
   "execution_count": 65,
   "metadata": {},
   "outputs": [],
   "source": [
    "# ind = np.where(y_test == 0)[0]\n",
    "# # x_train = X_train[ind, :][0]\n",
    "# # x_train.shape\n",
    "# # print(ind)\n",
    "# y_test[ind] = 1\n",
    "# for i in range(y_test.shape[0]):\n",
    "#     if i not in ind:\n",
    "#         y_test[i] = 0\n",
    "# print(y_test.shape)    "
   ]
  },
  {
   "cell_type": "code",
   "execution_count": 66,
   "metadata": {},
   "outputs": [],
   "source": [
    "# minimum = minimize(cost, x0=theta_init, args=(X_train, y_train), method='TNC')\n",
    "# print(minimum)"
   ]
  },
  {
   "cell_type": "code",
   "execution_count": 67,
   "metadata": {},
   "outputs": [],
   "source": [
    "# print(minimum.x.shape)"
   ]
  },
  {
   "cell_type": "code",
   "execution_count": 68,
   "metadata": {},
   "outputs": [],
   "source": [
    "# theta_op = GD(theta_init, X_train, y_train, lr, ite)\n",
    "# pred = (np.sign(h(theta_op, X_test) - 0.5)+ 1) / 2\n",
    "# print(len(np.where(pred == 1)[0]))\n",
    "# print(np.mean(pred == y_test))"
   ]
  },
  {
   "cell_type": "code",
   "execution_count": 69,
   "metadata": {},
   "outputs": [],
   "source": [
    "# result = minimize(cost, x0=theta_init, args=(X_train, y_train))\n",
    "# print(result.x.shape)"
   ]
  },
  {
   "cell_type": "code",
   "execution_count": 70,
   "metadata": {},
   "outputs": [],
   "source": [
    "# # print(result.x.shape)\n",
    "# pred = (np.sign(h(result.x, X_train) - 0.5)+ 1) / 2\n",
    "# print(len(np.where(pred == 1)[0]))"
   ]
  },
  {
   "cell_type": "code",
   "execution_count": 71,
   "metadata": {},
   "outputs": [],
   "source": [
    "# print(y_pred.shape)\n",
    "# predict = \n",
    "# print(y_test.shape)"
   ]
  },
  {
   "cell_type": "code",
   "execution_count": 72,
   "metadata": {},
   "outputs": [],
   "source": [
    "# print(np.max(h(theta_op, X_test), axis=1))"
   ]
  }
 ],
 "metadata": {
  "kernelspec": {
   "display_name": "Python 3",
   "language": "python",
   "name": "python3"
  },
  "language_info": {
   "codemirror_mode": {
    "name": "ipython",
    "version": 3
   },
   "file_extension": ".py",
   "mimetype": "text/x-python",
   "name": "python",
   "nbconvert_exporter": "python",
   "pygments_lexer": "ipython3",
   "version": "3.6.6"
  }
 },
 "nbformat": 4,
 "nbformat_minor": 2
}
