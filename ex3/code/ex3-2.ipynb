{
 "cells": [
  {
   "cell_type": "code",
   "execution_count": 1,
   "metadata": {},
   "outputs": [],
   "source": [
    "import scipy.io\n",
    "import numpy as np\n",
    "import matplotlib.pyplot as plt\n",
    "\n",
    "datapath = '../datasets/ex3data1.mat'\n",
    "data = scipy.io.loadmat(datapath)\n",
    "X = data['X']\n",
    "y = data['y'].ravel()\n",
    "# y.shape\n",
    "\n",
    "weightpath = '../datasets/ex3weights.mat'\n",
    "weight = scipy.io.loadmat(weightpath)\n",
    "theta1 = weight['Theta1'] #25*401\n",
    "theta2 = weight['Theta2'] #10*26\n",
    "# theta2.shape\n",
    "# theta1.shape"
   ]
  },
  {
   "cell_type": "code",
   "execution_count": 2,
   "metadata": {},
   "outputs": [],
   "source": [
    "# # mean=0\n",
    "# x_mean = np.mean(X, axis=0)\n",
    "# def normalize(x):\n",
    "#     x = (x-x_mean) / 255\n",
    "#     return x\n",
    "\n",
    "# add ones\n",
    "def addones(x):\n",
    "    ones = np.ones((x.shape[0], 1))\n",
    "    x_new = np.concatenate((ones, x), axis=1)\n",
    "    return x_new"
   ]
  },
  {
   "cell_type": "code",
   "execution_count": 3,
   "metadata": {},
   "outputs": [
    {
     "name": "stdout",
     "output_type": "stream",
     "text": [
      "(401,)\n"
     ]
    }
   ],
   "source": [
    "# X = normalize(X)\n",
    "X = addones(X)\n",
    "print(X[0,].shape)"
   ]
  },
  {
   "cell_type": "code",
   "execution_count": 4,
   "metadata": {},
   "outputs": [],
   "source": [
    "def sigmoid(z):\n",
    "    return 1 / (1+np.exp(-z))\n",
    "\n",
    "def feedfw(theta1, theta2, x):\n",
    "    z1 = np.dot(x, theta1.T)\n",
    "    a1 = sigmoid(z1)\n",
    "    a1_nor = addones(a1)\n",
    "    z2 = np.dot(a1_nor, theta2.T)\n",
    "    a2 = sigmoid(z2)\n",
    "    return a1, np.argmax(a2, axis=1) + 1"
   ]
  },
  {
   "cell_type": "code",
   "execution_count": 5,
   "metadata": {},
   "outputs": [
    {
     "name": "stdout",
     "output_type": "stream",
     "text": [
      "(5000,)\n"
     ]
    }
   ],
   "source": [
    "a1, y_pred = feedfw(theta1, theta2, X)\n",
    "# print(y_pred[998:1002])\n",
    "# print(y[998:1002])\n",
    "print(y_pred.shape)"
   ]
  },
  {
   "cell_type": "code",
   "execution_count": 6,
   "metadata": {},
   "outputs": [
    {
     "name": "stdout",
     "output_type": "stream",
     "text": [
      "Accuracy: 97.52%\n"
     ]
    }
   ],
   "source": [
    "print('Accuracy: {}%'.format(100*np.mean(y_pred==y)))"
   ]
  },
  {
   "cell_type": "code",
   "execution_count": 7,
   "metadata": {},
   "outputs": [],
   "source": [
    "# y_pred[998] == y[998]"
   ]
  },
  {
   "cell_type": "code",
   "execution_count": 8,
   "metadata": {},
   "outputs": [
    {
     "name": "stdout",
     "output_type": "stream",
     "text": [
      "(5000, 25)\n"
     ]
    }
   ],
   "source": [
    "print(a1.shape)"
   ]
  },
  {
   "cell_type": "code",
   "execution_count": 12,
   "metadata": {},
   "outputs": [
    {
     "data": {
      "image/png": "[encoded data removed]",
      "text/plain": [
       "<Figure size 720x720 with 25 Axes>"
      ]
     },
     "metadata": {},
     "output_type": "display_data"
    }
   ],
   "source": [
    "fig = plt.figure(figsize=(10, 10))\n",
    "for i in range(25):\n",
    "    plt.subplot(5, 5, i+1)\n",
    "    plt.xticks([])\n",
    "    plt.yticks([])\n",
    "    plt.imshow(a1[i,:].reshape(5,5).T, cmap=plt.cm.binary)"
   ]
  },
  {
   "cell_type": "code",
   "execution_count": null,
   "metadata": {},
   "outputs": [],
   "source": []
  },
  {
   "cell_type": "code",
   "execution_count": null,
   "metadata": {},
   "outputs": [],
   "source": []
  },
  {
   "cell_type": "code",
   "execution_count": null,
   "metadata": {},
   "outputs": [],
   "source": []
  },
  {
   "cell_type": "code",
   "execution_count": null,
   "metadata": {},
   "outputs": [],
   "source": []
  },
  {
   "cell_type": "code",
   "execution_count": null,
   "metadata": {},
   "outputs": [],
   "source": []
  },
  {
   "cell_type": "code",
   "execution_count": null,
   "metadata": {},
   "outputs": [],
   "source": []
  },
  {
   "cell_type": "code",
   "execution_count": null,
   "metadata": {},
   "outputs": [],
   "source": []
  },
  {
   "cell_type": "code",
   "execution_count": null,
   "metadata": {},
   "outputs": [],
   "source": []
  },
  {
   "cell_type": "code",
   "execution_count": null,
   "metadata": {},
   "outputs": [],
   "source": []
  }
 ],
 "metadata": {
  "kernelspec": {
   "display_name": "Python 3",
   "language": "python",
   "name": "python3"
  },
  "language_info": {
   "codemirror_mode": {
    "name": "ipython",
    "version": 3
   },
   "file_extension": ".py",
   "mimetype": "text/x-python",
   "name": "python",
   "nbconvert_exporter": "python",
   "pygments_lexer": "ipython3",
   "version": "3.6.5"
  }
 },
 "nbformat": 4,
 "nbformat_minor": 2
}
