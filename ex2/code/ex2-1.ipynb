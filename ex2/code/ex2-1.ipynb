{
 "cells": [
  {
   "cell_type": "code",
   "execution_count": 2,
   "metadata": {},
   "outputs": [],
   "source": [
    "import numpy as np\n",
    "import matplotlib.pyplot as plt"
   ]
  },
  {
   "cell_type": "code",
   "execution_count": 5,
   "metadata": {},
   "outputs": [
    {
     "name": "stdout",
     "output_type": "stream",
     "text": [
      "(100, 1)\n"
     ]
    }
   ],
   "source": [
    "path = '../ex2data1.txt'\n",
    "X = []\n",
    "Y = []\n",
    "with open(path) as f:\n",
    "    for line in f:\n",
    "        line = line.split(',')\n",
    "        X.append([float(line[0]), float(line[1])])\n",
    "        Y.append([int(line[2])])\n",
    "X = np.array(X)\n",
    "Y = np.array(Y)\n",
    "print(Y.shape)"
   ]
  },
  {
   "cell_type": "code",
   "execution_count": 18,
   "metadata": {},
   "outputs": [],
   "source": [
    "# print(X)"
   ]
  },
  {
   "cell_type": "code",
   "execution_count": 13,
   "metadata": {},
   "outputs": [
    {
     "data": {
      "image/png": "[encoded data removed]",
      "text/plain": [
       "<Figure size 432x288 with 1 Axes>"
      ]
     },
     "metadata": {},
     "output_type": "display_data"
    }
   ],
   "source": [
    "pos = np.where(Y == 1)[0]\n",
    "neg = np.where(Y == 0)[0]\n",
    "# print(pos)\n",
    "\n",
    "plt.plot(X[pos][:, 0], X[pos][:, 1], 'b+', label='Admited')\n",
    "plt.plot(X[neg][:, 0], X[neg][:, 1], 'ro', label='Not admited')\n",
    "plt.xlabel('Exam 1 Score')\n",
    "plt.ylabel('Exam 2 score')\n",
    "plt.legend()\n",
    "plt.show()"
   ]
  },
  {
   "cell_type": "code",
   "execution_count": 24,
   "metadata": {},
   "outputs": [
    {
     "name": "stdout",
     "output_type": "stream",
     "text": [
      "(100, 3)\n",
      "[ 1.         34.62365962 78.02469282]\n"
     ]
    }
   ],
   "source": [
    "def normalize(x):\n",
    "    ones = np.ones((x.shape[0], 1))\n",
    "    x_nor = np.concatenate((ones, x), axis=1)\n",
    "    return x_nor\n",
    "X_nor = normalize(X)\n",
    "print(X_nor.shape)\n",
    "# print(X_nor[0])"
   ]
  },
  {
   "cell_type": "code",
   "execution_count": 25,
   "metadata": {},
   "outputs": [],
   "source": [
    "def sigmoid(x):\n",
    "    return 1./(1 + np.exp(-x))\n",
    "\n",
    "def predict(theta, x):\n",
    "    return sigmoid(x.dot(theta))\n",
    "\n"
   ]
  },
  {
   "cell_type": "code",
   "execution_count": 26,
   "metadata": {},
   "outputs": [],
   "source": [
    "theta_init = np.zeros((3, 1))\n",
    "lr = .01\n",
    "ite = 1000\n"
   ]
  },
  {
   "cell_type": "code",
   "execution_count": 27,
   "metadata": {},
   "outputs": [],
   "source": [
    "def GD(theta_init, x, y, lr, ite):\n",
    "    theta = theta_init\n",
    "    for it in range(ite):\n",
    "        theta = theta - lr * x.T.dot(predict(theta, x) - y) / x.shape[0]\n",
    "    return theta"
   ]
  },
  {
   "cell_type": "code",
   "execution_count": 28,
   "metadata": {},
   "outputs": [
    {
     "name": "stdout",
     "output_type": "stream",
     "text": [
      "[[-0.76754116]\n",
      " [ 0.35868899]\n",
      " [-0.11012487]]\n"
     ]
    }
   ],
   "source": [
    "theta_op = GD(theta_init, X_nor, Y, lr, ite)\n",
    "print(theta_op)"
   ]
  },
  {
   "cell_type": "code",
   "execution_count": 31,
   "metadata": {},
   "outputs": [
    {
     "data": {
      "image/png": "[encoded data removed]",
      "text/plain": [
       "<Figure size 432x288 with 1 Axes>"
      ]
     },
     "metadata": {},
     "output_type": "display_data"
    }
   ],
   "source": [
    "plt.plot(X[pos][:, 0], X[pos][:, 1], 'b+', label='Admited')\n",
    "plt.plot(X[neg][:, 0], X[neg][:, 1], 'ro', label='Not admited')\n",
    "plt.xlabel('Exam 1 Score')\n",
    "plt.ylabel('Exam 2 score')\n",
    "plt.legend()\n",
    "# plt.show()\n",
    "\n",
    "x1plot = np.arange(30, 100, .2)\n",
    "x2plot = (theta_op[0] + theta_op[2]*x1plot) / (-theta_op[1])\n",
    "plt.plot(x1plot, x2plot, 'b-')\n",
    "plt.show()"
   ]
  },
  {
   "cell_type": "code",
   "execution_count": null,
   "metadata": {},
   "outputs": [],
   "source": []
  }
 ],
 "metadata": {
  "kernelspec": {
   "display_name": "Python 3",
   "language": "python",
   "name": "python3"
  },
  "language_info": {
   "codemirror_mode": {
    "name": "ipython",
    "version": 3
   },
   "file_extension": ".py",
   "mimetype": "text/x-python",
   "name": "python",
   "nbconvert_exporter": "python",
   "pygments_lexer": "ipython3",
   "version": "3.6.5"
  }
 },
 "nbformat": 4,
 "nbformat_minor": 2
}
