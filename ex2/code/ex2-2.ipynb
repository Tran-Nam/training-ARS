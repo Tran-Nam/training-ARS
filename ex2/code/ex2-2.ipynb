{
 "cells": [
  {
   "cell_type": "code",
   "execution_count": 153,
   "metadata": {},
   "outputs": [
    {
     "name": "stdout",
     "output_type": "stream",
     "text": [
      "(118, 2)\n"
     ]
    }
   ],
   "source": [
    "# read data\n",
    "\n",
    "import numpy as np \n",
    "import matplotlib.pyplot as plt \n",
    "\n",
    "path = '../ex2data2.txt'\n",
    "X = []\n",
    "Y = []\n",
    "\n",
    "with open(path) as f:\n",
    "    for line in f.read().splitlines():\n",
    "        line = line.split(',')\n",
    "        X.append([float(line[0]), float(line[1])])\n",
    "        Y.append([int(line[2])])\n",
    "\n",
    "X = np.array(X)\n",
    "Y = np.array(Y)\n",
    "print(X.shape)"
   ]
  },
  {
   "cell_type": "code",
   "execution_count": 150,
   "metadata": {},
   "outputs": [
    {
     "data": {
      "image/png": "[encoded data removed]",
      "text/plain": [
       "<Figure size 432x288 with 1 Axes>"
      ]
     },
     "metadata": {},
     "output_type": "display_data"
    }
   ],
   "source": [
    "# visualize data\n",
    "\n",
    "pos = np.where(Y == 1)[0]\n",
    "neg = np.where(Y == 0)[0]\n",
    "\n",
    "plt.figure()\n",
    "plt.subplot()\n",
    "plt.plot(X[pos][:, 0], X[pos][:, 1], 'ro', label='y = 1')\n",
    "plt.plot(X[neg][:, 0], X[neg][:, 1], 'bs', label='y = 0')\n",
    "plt.legend()\n",
    "plt.xlabel('Microchip test 1')\n",
    "plt.ylabel('Microchip test 2')\n",
    "# plt.axis([-1, 1, -1, 1])\n",
    "plt.show()\n"
   ]
  },
  {
   "cell_type": "code",
   "execution_count": 154,
   "metadata": {},
   "outputs": [
    {
     "name": "stdout",
     "output_type": "stream",
     "text": [
      "(118, 2)\n",
      "(118, 28)\n"
     ]
    }
   ],
   "source": [
    "# feature mapping\n",
    "\n",
    "x1 = X[:,0]\n",
    "x2 = X[:,1]\n",
    "def mapFeature(x1, x2):\n",
    "    k = x1.shape[0]\n",
    "    deg = 6\n",
    "    X_train = np.ones((k, 1))\n",
    "    for i in range(1, deg+1):\n",
    "        for j in range(i+1):\n",
    "            X_train = np.hstack((X_train, ((x1**(i-j))*(x2**j)).reshape(k,1)))\n",
    "\n",
    "    return X_train\n",
    "X_train = mapFeature(x1, x2)\n",
    "m = X_train.shape[0]\n",
    "n = X_train.shape[1]\n",
    "# print(X.shape)\n",
    "# print(X_train.shape)"
   ]
  },
  {
   "cell_type": "code",
   "execution_count": 192,
   "metadata": {},
   "outputs": [],
   "source": [
    "# funciton algorithm\n",
    "\n",
    "def predict(w, x):\n",
    "    z = x.dot(w)\n",
    "    return 1 / (1 + np.exp(-z))\n",
    "\n",
    "def GD(w_init, lr, ite, alpha, x, y):\n",
    "    w = w_init\n",
    "    for it in range(ite):\n",
    "        w[0] = w[0] - lr*x[:,0].dot(predict(w, x)- y)\n",
    "        for i in range(1, n):\n",
    "            w[i] = w[i] - lr*(x[:, i].dot(predict(w, x) - Y)/m + alpha*w[i]/m)\n",
    "#         if it%1000 == 0:\n",
    "#             print(np.abs(predict(w, x) - Y).mean())\n",
    "    return w"
   ]
  },
  {
   "cell_type": "code",
   "execution_count": 201,
   "metadata": {},
   "outputs": [],
   "source": [
    "# init parameter\n",
    "\n",
    "lr = .1\n",
    "alpha = .1\n",
    "ite = 10000\n",
    "w_init = np.zeros((n,1))"
   ]
  },
  {
   "cell_type": "code",
   "execution_count": 175,
   "metadata": {},
   "outputs": [
    {
     "name": "stdout",
     "output_type": "stream",
     "text": [
      "0.25090278573035624\n",
      "0.2508862834606653\n",
      "0.2508717873062449\n",
      "0.25085903068547916\n",
      "0.2508477871183319\n",
      "0.2508378632004089\n",
      "0.25082909301272743\n",
      "0.2508213336344996\n",
      "0.25081446151037623\n",
      "0.25080836948522056\n",
      "Loss: 0.2508\n"
     ]
    }
   ],
   "source": [
    "# optimize\n",
    "\n",
    "w_op = GD(w_init, lr, ite, alpha, X_train, Y)\n",
    "print('Loss: %.4f'%np.abs(predict(w_op, X_train) - Y).mean())\n"
   ]
  },
  {
   "cell_type": "code",
   "execution_count": 176,
   "metadata": {},
   "outputs": [
    {
     "name": "stdout",
     "output_type": "stream",
     "text": [
      "(28, 1)\n",
      "(118, 28)\n",
      "(118, 1)\n"
     ]
    }
   ],
   "source": [
    "print(w_op.shape)\n",
    "print(X_train.shape)\n",
    "print(Y.shape)"
   ]
  },
  {
   "cell_type": "code",
   "execution_count": 188,
   "metadata": {},
   "outputs": [],
   "source": [
    "# axis\n",
    "xmin, xmax = X[neg][:, 0].min() - .3, X[neg][:, 0].max() + .3\n",
    "ymin, ymax= X[neg][:, 1].min() - .3, X[neg][:, 1].max() + .3\n",
    "# print(xmin, xmax)\n",
    "# print(ymin, ymax)\n",
    "\n",
    "# grid\n",
    "xx, yy = np.meshgrid(np.arange(xmin, xmax, .02), np.arange(ymin, ymax, .02))\n",
    "\n",
    "# feature\n",
    "grid = np.c_[xx.ravel(), yy.ravel()] #concatenate\n",
    "# print(grid.shape)\n",
    "gridFeaMap = mapFeature(grid[:,0], grid[:,1]) #feature Mapping\n",
    "# print(gridFeaMap.shape)\n",
    "z = predict(w_op, gridFeaMap) #predict\n",
    "# print(z.shape)\n",
    "# print(z[0])\n",
    "\n",
    "# classification\n",
    "prepos = np.where(z >= .5)[0]\n",
    "preneg = np.where(z < .5)[0]\n",
    "z[preneg] = 0 #label\n",
    "z[prepos] = 1\n",
    "# print(prepos.shape)\n",
    "# print(preneg.shape)\n",
    "# print(z.shape)\n",
    "z = z.reshape(xx.shape)"
   ]
  },
  {
   "cell_type": "code",
   "execution_count": 190,
   "metadata": {},
   "outputs": [
    {
     "data": {
      "image/png": "[encoded data removed]",
      "text/plain": [
       "<Figure size 432x288 with 1 Axes>"
      ]
     },
     "metadata": {},
     "output_type": "display_data"
    }
   ],
   "source": [
    "# plot origin data\n",
    "pos = np.where(Y == 1)[0]\n",
    "neg = np.where(Y == 0)[0]\n",
    "plt.plot(X[pos][:, 0], X[pos][:, 1], 'ro', label='y = 1')\n",
    "plt.plot(X[neg][:, 0], X[neg][:, 1], 'bs', label='y = 0')\n",
    "plt.legend()\n",
    "plt.xlabel('Microchip test 1')\n",
    "plt.ylabel('Microchip test 2')\n",
    "plt.title('Logistic with regularizing')\n",
    "\n",
    "# plot decsboundary\n",
    "plt.contourf(xx, yy, z, alpha=.8, cmap=plt.cm.Spectral)\n",
    "# plt.savefig(fname='alpha=%.2f.png'%alpha)\n",
    "plt.show()\n"
   ]
  },
  {
   "cell_type": "code",
   "execution_count": 205,
   "metadata": {},
   "outputs": [
    {
     "data": {
      "image/png": "[encoded data removed]",
      "text/plain": [
       "<Figure size 432x288 with 1 Axes>"
      ]
     },
     "metadata": {},
     "output_type": "display_data"
    }
   ],
   "source": [
    "alphas = [0, .001, .01, .1, 1, 10, 100]\n",
    "for alpha in alphas:\n",
    "    w_op = GD(w_init, lr, ite, alpha, X_train, Y)\n",
    "    z = predict(w_op, gridFeaMap)\n",
    "    prepos = np.where(z >= .5)[0]\n",
    "    preneg = np.where(z < .5)[0]\n",
    "    z[preneg] = 0\n",
    "    z[prepos] = 1\n",
    "    z = z.reshape(xx.shape)\n",
    "    \n",
    "    pos = np.where(Y == 1)[0]\n",
    "    neg = np.where(Y == 0)[0]\n",
    "    plt.plot(X[pos][:, 0], X[pos][:, 1], 'ro')\n",
    "    plt.plot(X[neg][:, 0], X[neg][:, 1], 'bs')\n",
    "#     plt.legend()\n",
    "    plt.xlabel('Alpha=%.3f'%alpha)\n",
    "#     plt.ylabel('Microchip test 2')\n",
    "#     plt.title('Alpha=%.3f'%alpha)\n",
    "\n",
    "    # plot decsboundary\n",
    "    plt.contourf(xx, yy, z, alpha=.8, cmap=plt.cm.Spectral)\n",
    "    plt.savefig(fname='alpha=%.3f.png'%alpha)\n",
    "#     plt.show()\n",
    "# plt.savefig('Alpha.png')"
   ]
  },
  {
   "cell_type": "code",
   "execution_count": 203,
   "metadata": {},
   "outputs": [
    {
     "data": {
      "text/plain": [
       "<Figure size 432x288 with 0 Axes>"
      ]
     },
     "metadata": {},
     "output_type": "display_data"
    }
   ],
   "source": []
  },
  {
   "cell_type": "code",
   "execution_count": 180,
   "metadata": {},
   "outputs": [
    {
     "name": "stdout",
     "output_type": "stream",
     "text": [
      "(124, 126)\n",
      "(124, 126)\n"
     ]
    }
   ],
   "source": [
    "# print(xx.shape)\n",
    "# print(yy.shape)"
   ]
  },
  {
   "cell_type": "code",
   "execution_count": 181,
   "metadata": {},
   "outputs": [
    {
     "name": "stdout",
     "output_type": "stream",
     "text": [
      "(15624, 2)\n",
      "(15624, 28)\n",
      "(15624, 1)\n",
      "[-33.26284247]\n",
      "(15624, 1)\n",
      "[3.5820452e-15]\n",
      "(4019,)\n",
      "(11605,)\n",
      "(15624, 1)\n"
     ]
    }
   ],
   "source": [
    "# test = np.c_[xx.ravel(), yy.ravel()]\n",
    "# print(test.shape)\n",
    "# test1 = mapFeature(test[:,0], test[:,1])\n",
    "# print(test1.shape)\n",
    "# test2 = test1.dot(w_op)\n",
    "# test3 = predict(w_op, test1)\n",
    "# print(test2.shape)\n",
    "# print(test2[0])\n",
    "# print(test3.shape)\n",
    "# print(test3[0])\n",
    "# prepos = np.where(test3 >= .5)[0]\n",
    "\n",
    "# preneg = np.where(test3 < .5)[0]\n",
    "# test3[preneg] = 0\n",
    "# test3[prepos] = 1\n",
    "# print(prepos.shape)\n",
    "# print(preneg.shape)\n",
    "# print(test3.shape)\n",
    "# test3 = test3.reshape(xx.shape)\n",
    "# # print(preneg.shape)\n"
   ]
  },
  {
   "cell_type": "code",
   "execution_count": null,
   "metadata": {},
   "outputs": [],
   "source": []
  }
 ],
 "metadata": {
  "kernelspec": {
   "display_name": "Python 3",
   "language": "python",
   "name": "python3"
  },
  "language_info": {
   "codemirror_mode": {
    "name": "ipython",
    "version": 3
   },
   "file_extension": ".py",
   "mimetype": "text/x-python",
   "name": "python",
   "nbconvert_exporter": "python",
   "pygments_lexer": "ipython3",
   "version": "3.6.5"
  }
 },
 "nbformat": 4,
 "nbformat_minor": 2
}
