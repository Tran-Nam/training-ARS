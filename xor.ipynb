{
 "cells": [
  {
   "cell_type": "code",
   "execution_count": 61,
   "metadata": {},
   "outputs": [],
   "source": [
    "import numpy as np\n",
    "import matplotlib.pyplot as plt\n"
   ]
  },
  {
   "cell_type": "code",
   "execution_count": 62,
   "metadata": {},
   "outputs": [
    {
     "name": "stdout",
     "output_type": "stream",
     "text": [
      "(4, 2)\n",
      "(4, 1)\n"
     ]
    }
   ],
   "source": [
    "X = [[0, 0], [0, 1], [1, 0], [1, 1]]\n",
    "y = [0, 1, 1, 0]\n",
    "\n",
    "X = np.array(X)\n",
    "N = X.shape[0]\n",
    "y = np.array(y).reshape(N, 1)\n",
    "print(X.shape)\n",
    "print(y.shape)"
   ]
  },
  {
   "cell_type": "code",
   "execution_count": null,
   "metadata": {},
   "outputs": [],
   "source": []
  },
  {
   "cell_type": "code",
   "execution_count": 63,
   "metadata": {},
   "outputs": [],
   "source": [
    "d = X.shape[1] #dimension input\n",
    "d1 = 3 #unit of hidden\n",
    "d2 = y.shape[1] #dimension output\n",
    "\n",
    "# np.random.seed(1)\n",
    "W1 = .01*np.random.rand(d, d1)\n",
    "b1 = np.zeros((1, d1))\n",
    "W2 = .01*np.random.rand(d1, d2)\n",
    "b2 = np.zeros((1, d2))"
   ]
  },
  {
   "cell_type": "code",
   "execution_count": 64,
   "metadata": {},
   "outputs": [],
   "source": [
    "lr = 1\n",
    "ite = 10000000"
   ]
  },
  {
   "cell_type": "code",
   "execution_count": 65,
   "metadata": {},
   "outputs": [],
   "source": [
    "def sigmoid(z):\n",
    "    return 1/(1+np.exp(-z))\n",
    "def cost(y_pred, y):\n",
    "    cost = np.dot(y.T, np.log(y_pred)) + np.dot((1-y).T, np.log(1-y_pred))\n",
    "    return -np.sum(cost) / N"
   ]
  },
  {
   "cell_type": "raw",
   "metadata": {},
   "source": [
    "y*log(y_pred) +  (1-y)*(1-y_pred) -dz\n",
    "y/y_pred - (1-y)/(1-y_pred) = y - y*y_pred - (1 - y)*y_pred = y - y*y_pred - y_pred + y*y_pred = y-y_pred"
   ]
  },
  {
   "cell_type": "code",
   "execution_count": 66,
   "metadata": {},
   "outputs": [
    {
     "name": "stdout",
     "output_type": "stream",
     "text": [
      "Iter: 0, Loss: 0.69\n",
      "Iter: 100000, Loss: 0.69\n",
      "Iter: 200000, Loss: 0.00\n",
      "Iter: 300000, Loss: 0.00\n",
      "Iter: 400000, Loss: 0.00\n",
      "Iter: 500000, Loss: 0.00\n",
      "Iter: 600000, Loss: 0.00\n",
      "Iter: 700000, Loss: 0.00\n",
      "Iter: 800000, Loss: 0.00\n",
      "Iter: 900000, Loss: 0.00\n",
      "Iter: 1000000, Loss: 0.00\n",
      "Iter: 1100000, Loss: 0.00\n",
      "Iter: 1200000, Loss: 0.00\n",
      "Iter: 1300000, Loss: 0.00\n",
      "Iter: 1400000, Loss: 0.00\n",
      "Iter: 1500000, Loss: 0.00\n",
      "Iter: 1600000, Loss: 0.00\n",
      "Iter: 1700000, Loss: 0.00\n",
      "Iter: 1800000, Loss: 0.00\n",
      "Iter: 1900000, Loss: 0.00\n",
      "Iter: 2000000, Loss: 0.00\n",
      "Iter: 2100000, Loss: 0.00\n"
     ]
    },
    {
     "ename": "KeyboardInterrupt",
     "evalue": "",
     "output_type": "error",
     "traceback": [
      "\u001b[0;31m---------------------------------------------------------------------------\u001b[0m",
      "\u001b[0;31mKeyboardInterrupt\u001b[0m                         Traceback (most recent call last)",
      "\u001b[0;32m<ipython-input-66-d309b32f8cf1>\u001b[0m in \u001b[0;36m<module>\u001b[0;34m()\u001b[0m\n\u001b[1;32m      6\u001b[0m     \u001b[0my_pred\u001b[0m \u001b[0;34m=\u001b[0m \u001b[0msigmoid\u001b[0m\u001b[0;34m(\u001b[0m\u001b[0mz2\u001b[0m\u001b[0;34m)\u001b[0m\u001b[0;34m\u001b[0m\u001b[0m\n\u001b[1;32m      7\u001b[0m \u001b[0;34m\u001b[0m\u001b[0m\n\u001b[0;32m----> 8\u001b[0;31m     \u001b[0mloss\u001b[0m \u001b[0;34m=\u001b[0m \u001b[0mcost\u001b[0m\u001b[0;34m(\u001b[0m\u001b[0my_pred\u001b[0m\u001b[0;34m,\u001b[0m \u001b[0my\u001b[0m\u001b[0;34m)\u001b[0m\u001b[0;34m\u001b[0m\u001b[0m\n\u001b[0m\u001b[1;32m      9\u001b[0m     \u001b[0;32mif\u001b[0m \u001b[0mit\u001b[0m\u001b[0;34m%\u001b[0m\u001b[0;36m100000\u001b[0m \u001b[0;34m==\u001b[0m \u001b[0;36m0\u001b[0m\u001b[0;34m:\u001b[0m\u001b[0;34m\u001b[0m\u001b[0m\n\u001b[1;32m     10\u001b[0m         \u001b[0mprint\u001b[0m\u001b[0;34m(\u001b[0m\u001b[0;34m'Iter: %d, Loss: %.2f'\u001b[0m\u001b[0;34m%\u001b[0m\u001b[0;34m(\u001b[0m\u001b[0mit\u001b[0m\u001b[0;34m,\u001b[0m \u001b[0mloss\u001b[0m\u001b[0;34m)\u001b[0m\u001b[0;34m)\u001b[0m\u001b[0;34m\u001b[0m\u001b[0m\n",
      "\u001b[0;32m<ipython-input-65-1af95aaf7583>\u001b[0m in \u001b[0;36mcost\u001b[0;34m(y_pred, y)\u001b[0m\n\u001b[1;32m      2\u001b[0m     \u001b[0;32mreturn\u001b[0m \u001b[0;36m1\u001b[0m\u001b[0;34m/\u001b[0m\u001b[0;34m(\u001b[0m\u001b[0;36m1\u001b[0m\u001b[0;34m+\u001b[0m\u001b[0mnp\u001b[0m\u001b[0;34m.\u001b[0m\u001b[0mexp\u001b[0m\u001b[0;34m(\u001b[0m\u001b[0;34m-\u001b[0m\u001b[0mz\u001b[0m\u001b[0;34m)\u001b[0m\u001b[0;34m)\u001b[0m\u001b[0;34m\u001b[0m\u001b[0m\n\u001b[1;32m      3\u001b[0m \u001b[0;32mdef\u001b[0m \u001b[0mcost\u001b[0m\u001b[0;34m(\u001b[0m\u001b[0my_pred\u001b[0m\u001b[0;34m,\u001b[0m \u001b[0my\u001b[0m\u001b[0;34m)\u001b[0m\u001b[0;34m:\u001b[0m\u001b[0;34m\u001b[0m\u001b[0m\n\u001b[0;32m----> 4\u001b[0;31m     \u001b[0mcost\u001b[0m \u001b[0;34m=\u001b[0m \u001b[0mnp\u001b[0m\u001b[0;34m.\u001b[0m\u001b[0mdot\u001b[0m\u001b[0;34m(\u001b[0m\u001b[0my\u001b[0m\u001b[0;34m.\u001b[0m\u001b[0mT\u001b[0m\u001b[0;34m,\u001b[0m \u001b[0mnp\u001b[0m\u001b[0;34m.\u001b[0m\u001b[0mlog\u001b[0m\u001b[0;34m(\u001b[0m\u001b[0my_pred\u001b[0m\u001b[0;34m)\u001b[0m\u001b[0;34m)\u001b[0m \u001b[0;34m+\u001b[0m \u001b[0mnp\u001b[0m\u001b[0;34m.\u001b[0m\u001b[0mdot\u001b[0m\u001b[0;34m(\u001b[0m\u001b[0;34m(\u001b[0m\u001b[0;36m1\u001b[0m\u001b[0;34m-\u001b[0m\u001b[0my\u001b[0m\u001b[0;34m)\u001b[0m\u001b[0;34m.\u001b[0m\u001b[0mT\u001b[0m\u001b[0;34m,\u001b[0m \u001b[0mnp\u001b[0m\u001b[0;34m.\u001b[0m\u001b[0mlog\u001b[0m\u001b[0;34m(\u001b[0m\u001b[0;36m1\u001b[0m\u001b[0;34m-\u001b[0m\u001b[0my_pred\u001b[0m\u001b[0;34m)\u001b[0m\u001b[0;34m)\u001b[0m\u001b[0;34m\u001b[0m\u001b[0m\n\u001b[0m\u001b[1;32m      5\u001b[0m     \u001b[0;32mreturn\u001b[0m \u001b[0;34m-\u001b[0m\u001b[0mnp\u001b[0m\u001b[0;34m.\u001b[0m\u001b[0msum\u001b[0m\u001b[0;34m(\u001b[0m\u001b[0mcost\u001b[0m\u001b[0;34m)\u001b[0m \u001b[0;34m/\u001b[0m \u001b[0mN\u001b[0m\u001b[0;34m\u001b[0m\u001b[0m\n",
      "\u001b[0;31mKeyboardInterrupt\u001b[0m: "
     ]
    }
   ],
   "source": [
    "for it in range(ite):\n",
    "    #feed forward\n",
    "    z1 = np.dot(X, W1) + b1 #N*d1\n",
    "    a1 = np.maximum(0, z1)\n",
    "    z2 = np.dot(a1, W2) + b2 #N*d2\n",
    "    y_pred = sigmoid(z2)\n",
    "    \n",
    "    loss = cost(y_pred, y)\n",
    "    if it%100000 == 0:\n",
    "        print('Iter: %d, Loss: %.2f'%(it, loss))\n",
    "        \n",
    "    #backpropagation\n",
    "    e2 = (y_pred - y) / N #N*d2 : dz2\n",
    "#     e2 = \n",
    "#     e2 = -(y/y_pred - (1-y)/(1-y_pred)) / N\n",
    "    dW2 = np.dot(a1.T, e2)\n",
    "    db2 = np.sum(e2, axis=0, keepdims=True)\n",
    "    e1 = np.dot(e2, W2.T) #N*d1\n",
    "    e1[z1<=0] = 0 #gradient of ReLU\n",
    "    dW1 = np.dot(X.T, e1)\n",
    "    db1 = np.sum(e1, axis=0, keepdims=True)\n",
    "    \n",
    "    #update\n",
    "    W1 -= lr*dW1\n",
    "    b1 -= lr*db1\n",
    "    W2 -= lr*dW2\n",
    "    b2 -= lr*db2\n",
    "\n",
    "z1 = np.dot(X, W1) + b1 #N*d1\n",
    "a1 = np.maximum(0, z1)\n",
    "z2 = np.dot(a1, W2) + b2 #N*d2\n",
    "y_pred = sigmoid(z2)\n",
    "print(y_pred)\n",
    "    \n",
    "    \n",
    "    "
   ]
  },
  {
   "cell_type": "code",
   "execution_count": 2,
   "metadata": {},
   "outputs": [
    {
     "data": {
      "text/plain": [
       "200"
      ]
     },
     "execution_count": 2,
     "metadata": {},
     "output_type": "execute_result"
    }
   ],
   "source": [
    "a = 'cagtcacatctgtaatcacaatacgttgggaggctgaggcaggaggatcacttgagtccaggagttgaggctgcagtgagctgtgatcacaccactgcactctagtgtgggtgacagtgagaccctgtctcaaaaaaaaaaaaaaaaagaTACATTCAAAGAAGTCAAAATAAAACAGTATAAAACCTATCTCCCTGATT'\n",
    "len(a)"
   ]
  },
  {
   "cell_type": "code",
   "execution_count": 3,
   "metadata": {},
   "outputs": [
    {
     "data": {
      "text/plain": [
       "200"
      ]
     },
     "execution_count": 3,
     "metadata": {},
     "output_type": "execute_result"
    }
   ],
   "source": [
    "b = 'CAGCTGGGCCTTCCTCCTGGGTCCTCTTTAGTCCGACCACCCGACACTGACTCGCCGCGCCCAGGTCAGTTCAGCTTGCTGGTGTTGGGAGCACAGGTCTAGGCTCACACGGTCCTGGGCATGAGTGTGCACACAAGGTGGGAGGCAATTTTCATGAAACTTGCCAGCTGCAAGCAGTTCTGGCTTGCCAACACACACAC'\n",
    "len(b)"
   ]
  },
  {
   "cell_type": "code",
   "execution_count": null,
   "metadata": {},
   "outputs": [],
   "source": []
  }
 ],
 "metadata": {
  "kernelspec": {
   "display_name": "Python 3",
   "language": "python",
   "name": "python3"
  },
  "language_info": {
   "codemirror_mode": {
    "name": "ipython",
    "version": 3
   },
   "file_extension": ".py",
   "mimetype": "text/x-python",
   "name": "python",
   "nbconvert_exporter": "python",
   "pygments_lexer": "ipython3",
   "version": "3.6.5"
  }
 },
 "nbformat": 4,
 "nbformat_minor": 2
}
