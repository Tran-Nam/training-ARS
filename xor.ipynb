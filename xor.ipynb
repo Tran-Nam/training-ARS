{
 "cells": [
  {
   "cell_type": "code",
   "execution_count": 260,
   "metadata": {},
   "outputs": [],
   "source": [
    "import numpy as np\n",
    "import matplotlib.pyplot as plt\n"
   ]
  },
  {
   "cell_type": "code",
   "execution_count": 261,
   "metadata": {},
   "outputs": [
    {
     "name": "stdout",
     "output_type": "stream",
     "text": [
      "(4, 2)\n",
      "(4, 1)\n"
     ]
    }
   ],
   "source": [
    "X = [[0, 0], [0, 1], [1, 0], [1, 1]]\n",
    "y = [0, 1, 1, 0]\n",
    "\n",
    "X = np.array(X)\n",
    "N = X.shape[0]\n",
    "y = np.array(y).reshape(N, 1)\n",
    "print(X.shape)\n",
    "print(y.shape)"
   ]
  },
  {
   "cell_type": "code",
   "execution_count": null,
   "metadata": {},
   "outputs": [],
   "source": []
  },
  {
   "cell_type": "code",
   "execution_count": 262,
   "metadata": {},
   "outputs": [],
   "source": [
    "d = X.shape[1] #dimension input\n",
    "d1 = 100 #unit of hidden\n",
    "d2 = y.shape[1] #dimension output\n",
    "\n",
    "# np.random.seed(1)\n",
    "W1 = .01*np.random.rand(d, d1)\n",
    "b1 = np.zeros((1, d1))\n",
    "W2 = .01*np.random.rand(d1, d2)\n",
    "b2 = np.zeros((1, d2))"
   ]
  },
  {
   "cell_type": "code",
   "execution_count": 263,
   "metadata": {},
   "outputs": [],
   "source": [
    "lr = 1\n",
    "ite = 10000"
   ]
  },
  {
   "cell_type": "code",
   "execution_count": 264,
   "metadata": {},
   "outputs": [],
   "source": [
    "def sigmoid(z):\n",
    "    return 1/(1+np.exp(-z))\n",
    "def cost(y_pred, y):\n",
    "    cost = np.dot(y.T, np.log(y_pred)) + np.dot((1-y).T, np.log(1-y_pred))\n",
    "    return -np.sum(cost) / N"
   ]
  },
  {
   "cell_type": "raw",
   "metadata": {},
   "source": [
    "y*log(y_pred) +  (1-y)*(1-y_pred) -dz\n",
    "y/y_pred - (1-y)/(1-y_pred) = y - y*y_pred - (1 - y)*y_pred = y - y*y_pred - y_pred + y*y_pred = y-y_pred"
   ]
  },
  {
   "cell_type": "code",
   "execution_count": 265,
   "metadata": {},
   "outputs": [
    {
     "name": "stdout",
     "output_type": "stream",
     "text": [
      "Iter: 0, Loss: 0.69\n",
      "Iter: 1000, Loss: 0.69\n",
      "Iter: 2000, Loss: 0.00\n",
      "Iter: 3000, Loss: 0.00\n",
      "Iter: 4000, Loss: 0.00\n",
      "Iter: 5000, Loss: 0.00\n",
      "Iter: 6000, Loss: 0.00\n",
      "Iter: 7000, Loss: 0.00\n",
      "Iter: 8000, Loss: 0.00\n",
      "Iter: 9000, Loss: 0.00\n",
      "[[8.76204517e-05]\n",
      " [9.99962712e-01]\n",
      " [9.99962327e-01]\n",
      " [3.06816107e-05]]\n"
     ]
    }
   ],
   "source": [
    "for it in range(ite):\n",
    "    #feed forward\n",
    "    z1 = np.dot(X, W1) + b1 #N*d1\n",
    "    a1 = np.maximum(0, z1)\n",
    "    z2 = np.dot(a1, W2) + b2 #N*d2\n",
    "    y_pred = sigmoid(z2)\n",
    "    \n",
    "    loss = cost(y_pred, y)\n",
    "    if it%1000 == 0:\n",
    "        print('Iter: %d, Loss: %.2f'%(it, loss))\n",
    "        \n",
    "    #backpropagation\n",
    "    e2 = (y_pred - y) / N #N*d2 : dz2\n",
    "#     e2 = \n",
    "#     e2 = -(y/y_pred - (1-y)/(1-y_pred)) / N\n",
    "    dW2 = np.dot(a1.T, e2)\n",
    "    db2 = np.sum(e2, axis=0, keepdims=True)\n",
    "    e1 = np.dot(e2, W2.T) #N*d1\n",
    "    e1[z1<=0] = 0 #gradient of ReLU\n",
    "    dW1 = np.dot(X.T, e1)\n",
    "    db1 = np.sum(e1, axis=0, keepdims=True)\n",
    "    \n",
    "    #update\n",
    "    W1 -= lr*dW1\n",
    "    b1 -= lr*db1\n",
    "    W2 -= lr*dW2\n",
    "    b2 -= lr*db2\n",
    "\n",
    "z1 = np.dot(X, W1) + b1 #N*d1\n",
    "a1 = np.maximum(0, z1)\n",
    "z2 = np.dot(a1, W2) + b2 #N*d2\n",
    "y_pred = sigmoid(z2)\n",
    "print(y_pred)\n",
    "    \n",
    "    \n",
    "    "
   ]
  },
  {
   "cell_type": "code",
   "execution_count": null,
   "metadata": {},
   "outputs": [],
   "source": []
  }
 ],
 "metadata": {
  "kernelspec": {
   "display_name": "Python 3",
   "language": "python",
   "name": "python3"
  },
  "language_info": {
   "codemirror_mode": {
    "name": "ipython",
    "version": 3
   },
   "file_extension": ".py",
   "mimetype": "text/x-python",
   "name": "python",
   "nbconvert_exporter": "python",
   "pygments_lexer": "ipython3",
   "version": "3.6.5"
  }
 },
 "nbformat": 4,
 "nbformat_minor": 2
}
