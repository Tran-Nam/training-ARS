{
 "cells": [
  {
   "cell_type": "code",
   "execution_count": 1,
   "metadata": {},
   "outputs": [],
   "source": [
    "import numpy as np\n",
    "import matplotlib.pyplot as plt\n"
   ]
  },
  {
   "cell_type": "code",
   "execution_count": 2,
   "metadata": {},
   "outputs": [
    {
     "name": "stdout",
     "output_type": "stream",
     "text": [
      "(4, 2)\n",
      "(4, 1)\n"
     ]
    }
   ],
   "source": [
    "X = [[0, 0], [0, 1], [1, 0], [1, 1]]\n",
    "y = [1, 0, 0, 1]\n",
    "\n",
    "X = np.array(X)\n",
    "N = X.shape[0]\n",
    "y = np.array(y).reshape(N, 1)\n",
    "print(X.shape)\n",
    "print(y.shape)"
   ]
  },
  {
   "cell_type": "code",
   "execution_count": 3,
   "metadata": {},
   "outputs": [],
   "source": [
    "d = X.shape[1] #dimension input\n",
    "d1 = 2 #unit of hidden\n",
    "d2 = y.shape[1] #dimension output\n",
    "\n",
    "np.random.seed(1)\n",
    "W1 = .01*np.random.rand(d, d1)\n",
    "b1 = np.zeros((1, d1))\n",
    "W2 = .01*np.random.rand(d1, d2)\n",
    "b2 = np.zeros((1, d2))"
   ]
  },
  {
   "cell_type": "code",
   "execution_count": 4,
   "metadata": {},
   "outputs": [],
   "source": [
    "lr = 1\n",
    "ite = 1000"
   ]
  },
  {
   "cell_type": "code",
   "execution_count": 5,
   "metadata": {},
   "outputs": [],
   "source": [
    "def sigmoid(z):\n",
    "    return 1/(1+np.exp(-z))\n",
    "def cost(y_pred, y):\n",
    "    cost = np.dot(y.T, np.log(y_pred)) + np.dot((1-y).T, np.log(1-y_pred))\n",
    "    return -np.sum(cost) / N"
   ]
  },
  {
   "cell_type": "code",
   "execution_count": 6,
   "metadata": {},
   "outputs": [
    {
     "name": "stdout",
     "output_type": "stream",
     "text": [
      "Iter: 0, Loss: 0.69\n"
     ]
    },
    {
     "ename": "ValueError",
     "evalue": "shapes (4,4) and (1,2) not aligned: 4 (dim 1) != 1 (dim 0)",
     "output_type": "error",
     "traceback": [
      "\u001b[0;31m---------------------------------------------------------------------------\u001b[0m",
      "\u001b[0;31mValueError\u001b[0m                                Traceback (most recent call last)",
      "\u001b[0;32m<ipython-input-6-920be4ec9ec8>\u001b[0m in \u001b[0;36m<module>\u001b[0;34m()\u001b[0m\n\u001b[1;32m     14\u001b[0m     \u001b[0mdW2\u001b[0m \u001b[0;34m=\u001b[0m \u001b[0mnp\u001b[0m\u001b[0;34m.\u001b[0m\u001b[0mdot\u001b[0m\u001b[0;34m(\u001b[0m\u001b[0ma1\u001b[0m\u001b[0;34m.\u001b[0m\u001b[0mT\u001b[0m\u001b[0;34m,\u001b[0m \u001b[0me2\u001b[0m\u001b[0;34m)\u001b[0m\u001b[0;34m\u001b[0m\u001b[0m\n\u001b[1;32m     15\u001b[0m     \u001b[0mdb2\u001b[0m \u001b[0;34m=\u001b[0m \u001b[0mnp\u001b[0m\u001b[0;34m.\u001b[0m\u001b[0msum\u001b[0m\u001b[0;34m(\u001b[0m\u001b[0me2\u001b[0m\u001b[0;34m,\u001b[0m \u001b[0maxis\u001b[0m\u001b[0;34m=\u001b[0m\u001b[0;36m0\u001b[0m\u001b[0;34m,\u001b[0m \u001b[0mkeepdims\u001b[0m\u001b[0;34m=\u001b[0m\u001b[0;32mTrue\u001b[0m\u001b[0;34m)\u001b[0m\u001b[0;34m\u001b[0m\u001b[0m\n\u001b[0;32m---> 16\u001b[0;31m     \u001b[0me1\u001b[0m \u001b[0;34m=\u001b[0m \u001b[0mnp\u001b[0m\u001b[0;34m.\u001b[0m\u001b[0mdot\u001b[0m\u001b[0;34m(\u001b[0m\u001b[0me2\u001b[0m\u001b[0;34m,\u001b[0m \u001b[0mW2\u001b[0m\u001b[0;34m.\u001b[0m\u001b[0mT\u001b[0m\u001b[0;34m)\u001b[0m \u001b[0;31m#N*d1\u001b[0m\u001b[0;34m\u001b[0m\u001b[0m\n\u001b[0m\u001b[1;32m     17\u001b[0m     \u001b[0me1\u001b[0m\u001b[0;34m[\u001b[0m\u001b[0mz1\u001b[0m\u001b[0;34m<=\u001b[0m\u001b[0;36m0\u001b[0m\u001b[0;34m]\u001b[0m \u001b[0;34m=\u001b[0m \u001b[0;36m0\u001b[0m \u001b[0;31m#gradient of ReLU\u001b[0m\u001b[0;34m\u001b[0m\u001b[0m\n\u001b[1;32m     18\u001b[0m     \u001b[0mdW1\u001b[0m \u001b[0;34m=\u001b[0m \u001b[0mnp\u001b[0m\u001b[0;34m.\u001b[0m\u001b[0mdot\u001b[0m\u001b[0;34m(\u001b[0m\u001b[0mX\u001b[0m\u001b[0;34m.\u001b[0m\u001b[0mT\u001b[0m\u001b[0;34m,\u001b[0m \u001b[0me1\u001b[0m\u001b[0;34m)\u001b[0m\u001b[0;34m\u001b[0m\u001b[0m\n",
      "\u001b[0;31mValueError\u001b[0m: shapes (4,4) and (1,2) not aligned: 4 (dim 1) != 1 (dim 0)"
     ]
    }
   ],
   "source": [
    "for it in range(ite):\n",
    "    #feed forward\n",
    "    z1 = np.dot(X, W1) + b1 #N*d1\n",
    "    a1 = np.maximum(0, z1)\n",
    "    z2 = np.dot(a1, W2) + b2 #N*d2\n",
    "    y_pred = sigmoid(z2)\n",
    "    \n",
    "    loss = cost(y_pred, y)\n",
    "    if it%100 == 0:\n",
    "        print('Iter: %d, Loss: %.2f'%(it, loss))\n",
    "        \n",
    "    #backpropagation\n",
    "    e2 = (y_pred - y).dot(z2.T) / N #N*d2\n",
    "    dW2 = np.dot(a1.T, e2)\n",
    "    db2 = np.sum(e2, axis=0, keepdims=True)\n",
    "    e1 = np.dot(e2, W2.T) #N*d1\n",
    "    e1[z1<=0] = 0 #gradient of ReLU\n",
    "    dW1 = np.dot(X.T, e1)\n",
    "    db1 = np.sum(e1, axis=0, keepdims=True)\n",
    "    \n",
    "    #update\n",
    "    W1 -= lr*dW1\n",
    "    b1 -= lr*db1\n",
    "    W2 -= lr*dW2\n",
    "    b2 -= lr*db2\n",
    "\n",
    "z1 = np.dot(X, W1) + b1 #N*d1\n",
    "a1 = np.maximum(0, z1)\n",
    "z2 = np.dot(a1, W2) + b2 #N*d2\n",
    "y_pred = sigmoid(z2)\n",
    "print(y_pred)\n",
    "    \n",
    "    \n",
    "    "
   ]
  },
  {
   "cell_type": "code",
   "execution_count": null,
   "metadata": {},
   "outputs": [],
   "source": []
  }
 ],
 "metadata": {
  "kernelspec": {
   "display_name": "Python 3",
   "language": "python",
   "name": "python3"
  },
  "language_info": {
   "codemirror_mode": {
    "name": "ipython",
    "version": 3
   },
   "file_extension": ".py",
   "mimetype": "text/x-python",
   "name": "python",
   "nbconvert_exporter": "python",
   "pygments_lexer": "ipython3",
   "version": "3.6.5"
  }
 },
 "nbformat": 4,
 "nbformat_minor": 2
}
